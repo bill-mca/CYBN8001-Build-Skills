{
  "nbformat": 4,
  "nbformat_minor": 0,
  "metadata": {
    "colab": {
      "provenance": []
    },
    "kernelspec": {
      "name": "python3",
      "display_name": "Python 3"
    }
  },
  "cells": [
    {
      "cell_type": "markdown",
      "metadata": {
        "id": "HwqvIDABWv0Y"
      },
      "source": [
        "#Training Data\n",
        "\n",
        "We will use the 'zoo dataset' to create a decision tree model.\n",
        "\n",
        "[Zoo dataset](http://archive.ics.uci.edu/ml/datasets/Zoo?ref=datanews.io) -- As described in the dataset information sheet:\n"
      ]
    },
    {
      "cell_type": "code",
      "metadata": {
        "id": "h9mhelIBWC1l",
        "colab": {
          "base_uri": "https://localhost:8080/"
        },
        "outputId": "b9c5f907-825d-45a2-8ec5-1a846fd1851e"
      },
      "source": [
        "# First, we'll download the zoo dataset to a local (temporary) folder\n",
        "!wget http://archive.ics.uci.edu/ml/machine-learning-databases/zoo/zoo.data"
      ],
      "execution_count": 1,
      "outputs": [
        {
          "output_type": "stream",
          "name": "stdout",
          "text": [
            "--2024-08-02 13:07:41--  http://archive.ics.uci.edu/ml/machine-learning-databases/zoo/zoo.data\n",
            "Resolving archive.ics.uci.edu (archive.ics.uci.edu)... 128.195.10.252\n",
            "Connecting to archive.ics.uci.edu (archive.ics.uci.edu)|128.195.10.252|:80... connected.\n",
            "HTTP request sent, awaiting response... 200 OK\n",
            "Length: unspecified\n",
            "Saving to: ‘zoo.data’\n",
            "\n",
            "\rzoo.data                [<=>                 ]       0  --.-KB/s               \rzoo.data                [ <=>                ]   4.03K  --.-KB/s    in 0s      \n",
            "\n",
            "2024-08-02 13:07:41 (40.8 MB/s) - ‘zoo.data’ saved [4126]\n",
            "\n"
          ]
        }
      ]
    },
    {
      "cell_type": "code",
      "metadata": {
        "id": "EkWtggFhnB6q"
      },
      "source": [
        "# We can also download and display the dataset's description:\n",
        "# This command downloads the relevant file\n",
        "!wget http://archive.ics.uci.edu/ml/machine-learning-databases/zoo/zoo.names\n",
        "# This command displays the file's contents\n",
        "!cat zoo.names"
      ],
      "execution_count": null,
      "outputs": []
    },
    {
      "cell_type": "markdown",
      "metadata": {
        "id": "2X2qOMfOWu7l"
      },
      "source": [
        "## Data Ingestion\n",
        "\n",
        "Here we'll \"ingest\" the data by importing it into [pandas](https://pandas.pydata.org/pandas-docs/stable/user_guide/10min.html):"
      ]
    },
    {
      "cell_type": "code",
      "metadata": {
        "id": "aVH7vhBEXHaQ",
        "colab": {
          "base_uri": "https://localhost:8080/",
          "height": 206
        },
        "outputId": "e982d0ad-876b-4894-ef7e-795c343d6801"
      },
      "source": [
        "from IPython.display import display\n",
        "import pandas as pd\n",
        "\n",
        "# Because the data file doesn't have header names, we'll list them here\n",
        "# You can find a description of the data file at http://archive.ics.uci.edu/ml/machine-learning-databases/zoo/zoo.names\n",
        "feature_names = ['animal name', 'hair', 'feathers', 'eggs', 'milk', 'airborne', 'aquatic', 'predator', 'toothed', 'backbone', 'breathes', 'venomous', 'fins', 'legs', 'tail', 'domestic', 'catsize', 'type']\n",
        "\n",
        "# Import the \"zoo\" dataset\n",
        "zoo = pd.read_csv('zoo.data', names = feature_names)\n",
        "\n",
        "# Lets take a peek at the data\n",
        "zoo.head()"
      ],
      "execution_count": 2,
      "outputs": [
        {
          "output_type": "execute_result",
          "data": {
            "text/plain": [
              "  animal name  hair  feathers  eggs  milk  airborne  aquatic  predator  \\\n",
              "0    aardvark     1         0     0     1         0        0         1   \n",
              "1    antelope     1         0     0     1         0        0         0   \n",
              "2        bass     0         0     1     0         0        1         1   \n",
              "3        bear     1         0     0     1         0        0         1   \n",
              "4        boar     1         0     0     1         0        0         1   \n",
              "\n",
              "   toothed  backbone  breathes  venomous  fins  legs  tail  domestic  catsize  \\\n",
              "0        1         1         1         0     0     4     0         0        1   \n",
              "1        1         1         1         0     0     4     1         0        1   \n",
              "2        1         1         0         0     1     0     1         0        0   \n",
              "3        1         1         1         0     0     4     0         0        1   \n",
              "4        1         1         1         0     0     4     1         0        1   \n",
              "\n",
              "   type  \n",
              "0     1  \n",
              "1     1  \n",
              "2     4  \n",
              "3     1  \n",
              "4     1  "
            ],
            "text/html": [
              "\n",
              "  <div id=\"df-35f994b3-cd2d-450d-a00a-da3e1fe1cfd5\" class=\"colab-df-container\">\n",
              "    <div>\n",
              "<style scoped>\n",
              "    .dataframe tbody tr th:only-of-type {\n",
              "        vertical-align: middle;\n",
              "    }\n",
              "\n",
              "    .dataframe tbody tr th {\n",
              "        vertical-align: top;\n",
              "    }\n",
              "\n",
              "    .dataframe thead th {\n",
              "        text-align: right;\n",
              "    }\n",
              "</style>\n",
              "<table border=\"1\" class=\"dataframe\">\n",
              "  <thead>\n",
              "    <tr style=\"text-align: right;\">\n",
              "      <th></th>\n",
              "      <th>animal name</th>\n",
              "      <th>hair</th>\n",
              "      <th>feathers</th>\n",
              "      <th>eggs</th>\n",
              "      <th>milk</th>\n",
              "      <th>airborne</th>\n",
              "      <th>aquatic</th>\n",
              "      <th>predator</th>\n",
              "      <th>toothed</th>\n",
              "      <th>backbone</th>\n",
              "      <th>breathes</th>\n",
              "      <th>venomous</th>\n",
              "      <th>fins</th>\n",
              "      <th>legs</th>\n",
              "      <th>tail</th>\n",
              "      <th>domestic</th>\n",
              "      <th>catsize</th>\n",
              "      <th>type</th>\n",
              "    </tr>\n",
              "  </thead>\n",
              "  <tbody>\n",
              "    <tr>\n",
              "      <th>0</th>\n",
              "      <td>aardvark</td>\n",
              "      <td>1</td>\n",
              "      <td>0</td>\n",
              "      <td>0</td>\n",
              "      <td>1</td>\n",
              "      <td>0</td>\n",
              "      <td>0</td>\n",
              "      <td>1</td>\n",
              "      <td>1</td>\n",
              "      <td>1</td>\n",
              "      <td>1</td>\n",
              "      <td>0</td>\n",
              "      <td>0</td>\n",
              "      <td>4</td>\n",
              "      <td>0</td>\n",
              "      <td>0</td>\n",
              "      <td>1</td>\n",
              "      <td>1</td>\n",
              "    </tr>\n",
              "    <tr>\n",
              "      <th>1</th>\n",
              "      <td>antelope</td>\n",
              "      <td>1</td>\n",
              "      <td>0</td>\n",
              "      <td>0</td>\n",
              "      <td>1</td>\n",
              "      <td>0</td>\n",
              "      <td>0</td>\n",
              "      <td>0</td>\n",
              "      <td>1</td>\n",
              "      <td>1</td>\n",
              "      <td>1</td>\n",
              "      <td>0</td>\n",
              "      <td>0</td>\n",
              "      <td>4</td>\n",
              "      <td>1</td>\n",
              "      <td>0</td>\n",
              "      <td>1</td>\n",
              "      <td>1</td>\n",
              "    </tr>\n",
              "    <tr>\n",
              "      <th>2</th>\n",
              "      <td>bass</td>\n",
              "      <td>0</td>\n",
              "      <td>0</td>\n",
              "      <td>1</td>\n",
              "      <td>0</td>\n",
              "      <td>0</td>\n",
              "      <td>1</td>\n",
              "      <td>1</td>\n",
              "      <td>1</td>\n",
              "      <td>1</td>\n",
              "      <td>0</td>\n",
              "      <td>0</td>\n",
              "      <td>1</td>\n",
              "      <td>0</td>\n",
              "      <td>1</td>\n",
              "      <td>0</td>\n",
              "      <td>0</td>\n",
              "      <td>4</td>\n",
              "    </tr>\n",
              "    <tr>\n",
              "      <th>3</th>\n",
              "      <td>bear</td>\n",
              "      <td>1</td>\n",
              "      <td>0</td>\n",
              "      <td>0</td>\n",
              "      <td>1</td>\n",
              "      <td>0</td>\n",
              "      <td>0</td>\n",
              "      <td>1</td>\n",
              "      <td>1</td>\n",
              "      <td>1</td>\n",
              "      <td>1</td>\n",
              "      <td>0</td>\n",
              "      <td>0</td>\n",
              "      <td>4</td>\n",
              "      <td>0</td>\n",
              "      <td>0</td>\n",
              "      <td>1</td>\n",
              "      <td>1</td>\n",
              "    </tr>\n",
              "    <tr>\n",
              "      <th>4</th>\n",
              "      <td>boar</td>\n",
              "      <td>1</td>\n",
              "      <td>0</td>\n",
              "      <td>0</td>\n",
              "      <td>1</td>\n",
              "      <td>0</td>\n",
              "      <td>0</td>\n",
              "      <td>1</td>\n",
              "      <td>1</td>\n",
              "      <td>1</td>\n",
              "      <td>1</td>\n",
              "      <td>0</td>\n",
              "      <td>0</td>\n",
              "      <td>4</td>\n",
              "      <td>1</td>\n",
              "      <td>0</td>\n",
              "      <td>1</td>\n",
              "      <td>1</td>\n",
              "    </tr>\n",
              "  </tbody>\n",
              "</table>\n",
              "</div>\n",
              "    <div class=\"colab-df-buttons\">\n",
              "\n",
              "  <div class=\"colab-df-container\">\n",
              "    <button class=\"colab-df-convert\" onclick=\"convertToInteractive('df-35f994b3-cd2d-450d-a00a-da3e1fe1cfd5')\"\n",
              "            title=\"Convert this dataframe to an interactive table.\"\n",
              "            style=\"display:none;\">\n",
              "\n",
              "  <svg xmlns=\"http://www.w3.org/2000/svg\" height=\"24px\" viewBox=\"0 -960 960 960\">\n",
              "    <path d=\"M120-120v-720h720v720H120Zm60-500h600v-160H180v160Zm220 220h160v-160H400v160Zm0 220h160v-160H400v160ZM180-400h160v-160H180v160Zm440 0h160v-160H620v160ZM180-180h160v-160H180v160Zm440 0h160v-160H620v160Z\"/>\n",
              "  </svg>\n",
              "    </button>\n",
              "\n",
              "  <style>\n",
              "    .colab-df-container {\n",
              "      display:flex;\n",
              "      gap: 12px;\n",
              "    }\n",
              "\n",
              "    .colab-df-convert {\n",
              "      background-color: #E8F0FE;\n",
              "      border: none;\n",
              "      border-radius: 50%;\n",
              "      cursor: pointer;\n",
              "      display: none;\n",
              "      fill: #1967D2;\n",
              "      height: 32px;\n",
              "      padding: 0 0 0 0;\n",
              "      width: 32px;\n",
              "    }\n",
              "\n",
              "    .colab-df-convert:hover {\n",
              "      background-color: #E2EBFA;\n",
              "      box-shadow: 0px 1px 2px rgba(60, 64, 67, 0.3), 0px 1px 3px 1px rgba(60, 64, 67, 0.15);\n",
              "      fill: #174EA6;\n",
              "    }\n",
              "\n",
              "    .colab-df-buttons div {\n",
              "      margin-bottom: 4px;\n",
              "    }\n",
              "\n",
              "    [theme=dark] .colab-df-convert {\n",
              "      background-color: #3B4455;\n",
              "      fill: #D2E3FC;\n",
              "    }\n",
              "\n",
              "    [theme=dark] .colab-df-convert:hover {\n",
              "      background-color: #434B5C;\n",
              "      box-shadow: 0px 1px 3px 1px rgba(0, 0, 0, 0.15);\n",
              "      filter: drop-shadow(0px 1px 2px rgba(0, 0, 0, 0.3));\n",
              "      fill: #FFFFFF;\n",
              "    }\n",
              "  </style>\n",
              "\n",
              "    <script>\n",
              "      const buttonEl =\n",
              "        document.querySelector('#df-35f994b3-cd2d-450d-a00a-da3e1fe1cfd5 button.colab-df-convert');\n",
              "      buttonEl.style.display =\n",
              "        google.colab.kernel.accessAllowed ? 'block' : 'none';\n",
              "\n",
              "      async function convertToInteractive(key) {\n",
              "        const element = document.querySelector('#df-35f994b3-cd2d-450d-a00a-da3e1fe1cfd5');\n",
              "        const dataTable =\n",
              "          await google.colab.kernel.invokeFunction('convertToInteractive',\n",
              "                                                    [key], {});\n",
              "        if (!dataTable) return;\n",
              "\n",
              "        const docLinkHtml = 'Like what you see? Visit the ' +\n",
              "          '<a target=\"_blank\" href=https://colab.research.google.com/notebooks/data_table.ipynb>data table notebook</a>'\n",
              "          + ' to learn more about interactive tables.';\n",
              "        element.innerHTML = '';\n",
              "        dataTable['output_type'] = 'display_data';\n",
              "        await google.colab.output.renderOutput(dataTable, element);\n",
              "        const docLink = document.createElement('div');\n",
              "        docLink.innerHTML = docLinkHtml;\n",
              "        element.appendChild(docLink);\n",
              "      }\n",
              "    </script>\n",
              "  </div>\n",
              "\n",
              "\n",
              "<div id=\"df-730bfc13-10cb-4e4a-8fec-f35d8b16bc51\">\n",
              "  <button class=\"colab-df-quickchart\" onclick=\"quickchart('df-730bfc13-10cb-4e4a-8fec-f35d8b16bc51')\"\n",
              "            title=\"Suggest charts\"\n",
              "            style=\"display:none;\">\n",
              "\n",
              "<svg xmlns=\"http://www.w3.org/2000/svg\" height=\"24px\"viewBox=\"0 0 24 24\"\n",
              "     width=\"24px\">\n",
              "    <g>\n",
              "        <path d=\"M19 3H5c-1.1 0-2 .9-2 2v14c0 1.1.9 2 2 2h14c1.1 0 2-.9 2-2V5c0-1.1-.9-2-2-2zM9 17H7v-7h2v7zm4 0h-2V7h2v10zm4 0h-2v-4h2v4z\"/>\n",
              "    </g>\n",
              "</svg>\n",
              "  </button>\n",
              "\n",
              "<style>\n",
              "  .colab-df-quickchart {\n",
              "      --bg-color: #E8F0FE;\n",
              "      --fill-color: #1967D2;\n",
              "      --hover-bg-color: #E2EBFA;\n",
              "      --hover-fill-color: #174EA6;\n",
              "      --disabled-fill-color: #AAA;\n",
              "      --disabled-bg-color: #DDD;\n",
              "  }\n",
              "\n",
              "  [theme=dark] .colab-df-quickchart {\n",
              "      --bg-color: #3B4455;\n",
              "      --fill-color: #D2E3FC;\n",
              "      --hover-bg-color: #434B5C;\n",
              "      --hover-fill-color: #FFFFFF;\n",
              "      --disabled-bg-color: #3B4455;\n",
              "      --disabled-fill-color: #666;\n",
              "  }\n",
              "\n",
              "  .colab-df-quickchart {\n",
              "    background-color: var(--bg-color);\n",
              "    border: none;\n",
              "    border-radius: 50%;\n",
              "    cursor: pointer;\n",
              "    display: none;\n",
              "    fill: var(--fill-color);\n",
              "    height: 32px;\n",
              "    padding: 0;\n",
              "    width: 32px;\n",
              "  }\n",
              "\n",
              "  .colab-df-quickchart:hover {\n",
              "    background-color: var(--hover-bg-color);\n",
              "    box-shadow: 0 1px 2px rgba(60, 64, 67, 0.3), 0 1px 3px 1px rgba(60, 64, 67, 0.15);\n",
              "    fill: var(--button-hover-fill-color);\n",
              "  }\n",
              "\n",
              "  .colab-df-quickchart-complete:disabled,\n",
              "  .colab-df-quickchart-complete:disabled:hover {\n",
              "    background-color: var(--disabled-bg-color);\n",
              "    fill: var(--disabled-fill-color);\n",
              "    box-shadow: none;\n",
              "  }\n",
              "\n",
              "  .colab-df-spinner {\n",
              "    border: 2px solid var(--fill-color);\n",
              "    border-color: transparent;\n",
              "    border-bottom-color: var(--fill-color);\n",
              "    animation:\n",
              "      spin 1s steps(1) infinite;\n",
              "  }\n",
              "\n",
              "  @keyframes spin {\n",
              "    0% {\n",
              "      border-color: transparent;\n",
              "      border-bottom-color: var(--fill-color);\n",
              "      border-left-color: var(--fill-color);\n",
              "    }\n",
              "    20% {\n",
              "      border-color: transparent;\n",
              "      border-left-color: var(--fill-color);\n",
              "      border-top-color: var(--fill-color);\n",
              "    }\n",
              "    30% {\n",
              "      border-color: transparent;\n",
              "      border-left-color: var(--fill-color);\n",
              "      border-top-color: var(--fill-color);\n",
              "      border-right-color: var(--fill-color);\n",
              "    }\n",
              "    40% {\n",
              "      border-color: transparent;\n",
              "      border-right-color: var(--fill-color);\n",
              "      border-top-color: var(--fill-color);\n",
              "    }\n",
              "    60% {\n",
              "      border-color: transparent;\n",
              "      border-right-color: var(--fill-color);\n",
              "    }\n",
              "    80% {\n",
              "      border-color: transparent;\n",
              "      border-right-color: var(--fill-color);\n",
              "      border-bottom-color: var(--fill-color);\n",
              "    }\n",
              "    90% {\n",
              "      border-color: transparent;\n",
              "      border-bottom-color: var(--fill-color);\n",
              "    }\n",
              "  }\n",
              "</style>\n",
              "\n",
              "  <script>\n",
              "    async function quickchart(key) {\n",
              "      const quickchartButtonEl =\n",
              "        document.querySelector('#' + key + ' button');\n",
              "      quickchartButtonEl.disabled = true;  // To prevent multiple clicks.\n",
              "      quickchartButtonEl.classList.add('colab-df-spinner');\n",
              "      try {\n",
              "        const charts = await google.colab.kernel.invokeFunction(\n",
              "            'suggestCharts', [key], {});\n",
              "      } catch (error) {\n",
              "        console.error('Error during call to suggestCharts:', error);\n",
              "      }\n",
              "      quickchartButtonEl.classList.remove('colab-df-spinner');\n",
              "      quickchartButtonEl.classList.add('colab-df-quickchart-complete');\n",
              "    }\n",
              "    (() => {\n",
              "      let quickchartButtonEl =\n",
              "        document.querySelector('#df-730bfc13-10cb-4e4a-8fec-f35d8b16bc51 button');\n",
              "      quickchartButtonEl.style.display =\n",
              "        google.colab.kernel.accessAllowed ? 'block' : 'none';\n",
              "    })();\n",
              "  </script>\n",
              "</div>\n",
              "\n",
              "    </div>\n",
              "  </div>\n"
            ],
            "application/vnd.google.colaboratory.intrinsic+json": {
              "type": "dataframe",
              "variable_name": "zoo",
              "summary": "{\n  \"name\": \"zoo\",\n  \"rows\": 101,\n  \"fields\": [\n    {\n      \"column\": \"animal name\",\n      \"properties\": {\n        \"dtype\": \"string\",\n        \"num_unique_values\": 100,\n        \"samples\": [\n          \"squirrel\",\n          \"opossum\",\n          \"rhea\"\n        ],\n        \"semantic_type\": \"\",\n        \"description\": \"\"\n      }\n    },\n    {\n      \"column\": \"hair\",\n      \"properties\": {\n        \"dtype\": \"number\",\n        \"std\": 0,\n        \"min\": 0,\n        \"max\": 1,\n        \"num_unique_values\": 2,\n        \"samples\": [\n          0,\n          1\n        ],\n        \"semantic_type\": \"\",\n        \"description\": \"\"\n      }\n    },\n    {\n      \"column\": \"feathers\",\n      \"properties\": {\n        \"dtype\": \"number\",\n        \"std\": 0,\n        \"min\": 0,\n        \"max\": 1,\n        \"num_unique_values\": 2,\n        \"samples\": [\n          1,\n          0\n        ],\n        \"semantic_type\": \"\",\n        \"description\": \"\"\n      }\n    },\n    {\n      \"column\": \"eggs\",\n      \"properties\": {\n        \"dtype\": \"number\",\n        \"std\": 0,\n        \"min\": 0,\n        \"max\": 1,\n        \"num_unique_values\": 2,\n        \"samples\": [\n          1,\n          0\n        ],\n        \"semantic_type\": \"\",\n        \"description\": \"\"\n      }\n    },\n    {\n      \"column\": \"milk\",\n      \"properties\": {\n        \"dtype\": \"number\",\n        \"std\": 0,\n        \"min\": 0,\n        \"max\": 1,\n        \"num_unique_values\": 2,\n        \"samples\": [\n          0,\n          1\n        ],\n        \"semantic_type\": \"\",\n        \"description\": \"\"\n      }\n    },\n    {\n      \"column\": \"airborne\",\n      \"properties\": {\n        \"dtype\": \"number\",\n        \"std\": 0,\n        \"min\": 0,\n        \"max\": 1,\n        \"num_unique_values\": 2,\n        \"samples\": [\n          1,\n          0\n        ],\n        \"semantic_type\": \"\",\n        \"description\": \"\"\n      }\n    },\n    {\n      \"column\": \"aquatic\",\n      \"properties\": {\n        \"dtype\": \"number\",\n        \"std\": 0,\n        \"min\": 0,\n        \"max\": 1,\n        \"num_unique_values\": 2,\n        \"samples\": [\n          1,\n          0\n        ],\n        \"semantic_type\": \"\",\n        \"description\": \"\"\n      }\n    },\n    {\n      \"column\": \"predator\",\n      \"properties\": {\n        \"dtype\": \"number\",\n        \"std\": 0,\n        \"min\": 0,\n        \"max\": 1,\n        \"num_unique_values\": 2,\n        \"samples\": [\n          0,\n          1\n        ],\n        \"semantic_type\": \"\",\n        \"description\": \"\"\n      }\n    },\n    {\n      \"column\": \"toothed\",\n      \"properties\": {\n        \"dtype\": \"number\",\n        \"std\": 0,\n        \"min\": 0,\n        \"max\": 1,\n        \"num_unique_values\": 2,\n        \"samples\": [\n          0,\n          1\n        ],\n        \"semantic_type\": \"\",\n        \"description\": \"\"\n      }\n    },\n    {\n      \"column\": \"backbone\",\n      \"properties\": {\n        \"dtype\": \"number\",\n        \"std\": 0,\n        \"min\": 0,\n        \"max\": 1,\n        \"num_unique_values\": 2,\n        \"samples\": [\n          0,\n          1\n        ],\n        \"semantic_type\": \"\",\n        \"description\": \"\"\n      }\n    },\n    {\n      \"column\": \"breathes\",\n      \"properties\": {\n        \"dtype\": \"number\",\n        \"std\": 0,\n        \"min\": 0,\n        \"max\": 1,\n        \"num_unique_values\": 2,\n        \"samples\": [\n          0,\n          1\n        ],\n        \"semantic_type\": \"\",\n        \"description\": \"\"\n      }\n    },\n    {\n      \"column\": \"venomous\",\n      \"properties\": {\n        \"dtype\": \"number\",\n        \"std\": 0,\n        \"min\": 0,\n        \"max\": 1,\n        \"num_unique_values\": 2,\n        \"samples\": [\n          1,\n          0\n        ],\n        \"semantic_type\": \"\",\n        \"description\": \"\"\n      }\n    },\n    {\n      \"column\": \"fins\",\n      \"properties\": {\n        \"dtype\": \"number\",\n        \"std\": 0,\n        \"min\": 0,\n        \"max\": 1,\n        \"num_unique_values\": 2,\n        \"samples\": [\n          1,\n          0\n        ],\n        \"semantic_type\": \"\",\n        \"description\": \"\"\n      }\n    },\n    {\n      \"column\": \"legs\",\n      \"properties\": {\n        \"dtype\": \"number\",\n        \"std\": 2,\n        \"min\": 0,\n        \"max\": 8,\n        \"num_unique_values\": 6,\n        \"samples\": [\n          4,\n          0\n        ],\n        \"semantic_type\": \"\",\n        \"description\": \"\"\n      }\n    },\n    {\n      \"column\": \"tail\",\n      \"properties\": {\n        \"dtype\": \"number\",\n        \"std\": 0,\n        \"min\": 0,\n        \"max\": 1,\n        \"num_unique_values\": 2,\n        \"samples\": [\n          1,\n          0\n        ],\n        \"semantic_type\": \"\",\n        \"description\": \"\"\n      }\n    },\n    {\n      \"column\": \"domestic\",\n      \"properties\": {\n        \"dtype\": \"number\",\n        \"std\": 0,\n        \"min\": 0,\n        \"max\": 1,\n        \"num_unique_values\": 2,\n        \"samples\": [\n          1,\n          0\n        ],\n        \"semantic_type\": \"\",\n        \"description\": \"\"\n      }\n    },\n    {\n      \"column\": \"catsize\",\n      \"properties\": {\n        \"dtype\": \"number\",\n        \"std\": 0,\n        \"min\": 0,\n        \"max\": 1,\n        \"num_unique_values\": 2,\n        \"samples\": [\n          0,\n          1\n        ],\n        \"semantic_type\": \"\",\n        \"description\": \"\"\n      }\n    },\n    {\n      \"column\": \"type\",\n      \"properties\": {\n        \"dtype\": \"number\",\n        \"std\": 2,\n        \"min\": 1,\n        \"max\": 7,\n        \"num_unique_values\": 7,\n        \"samples\": [\n          1,\n          4\n        ],\n        \"semantic_type\": \"\",\n        \"description\": \"\"\n      }\n    }\n  ]\n}"
            }
          },
          "metadata": {},
          "execution_count": 2
        }
      ]
    },
    {
      "cell_type": "code",
      "metadata": {
        "id": "inxb_KT1XM_n"
      },
      "source": [
        "# Libraries\n",
        "import numpy as np\n",
        "# Matplotlib is a common plotting library\n",
        "import matplotlib.pyplot as plt\n",
        "# Seaborn is handy for creating beautiful plots\n",
        "import seaborn as sns; sns.set()"
      ],
      "execution_count": 4,
      "outputs": []
    },
    {
      "cell_type": "markdown",
      "metadata": {
        "id": "jXyD2oPDYip2"
      },
      "source": [
        "# Feature Extraction\n",
        "\n",
        "We'll now split up the data into features and labels. We will not do any special pre-processing to generate features, but you are of course welcome to experiment with engineering new features if you have an intuition for how it will improve your model performance.  "
      ]
    },
    {
      "cell_type": "code",
      "source": [
        "features = zoo.loc[:, 'hair':'catsize'] # Omit animal name\n",
        "labels = zoo.loc[:, 'type']\n",
        "labels_alpha = set(zoo.loc[:, 'animal name'])\n",
        "\n",
        "# We then convert the feature and labels dataframes to\n",
        "# numpy ndarrays, which can interface with the scikit-learn models\n",
        "X = features.to_numpy()\n",
        "y = labels.to_numpy()"
      ],
      "metadata": {
        "id": "LowjIcncwhGx"
      },
      "execution_count": 3,
      "outputs": []
    },
    {
      "cell_type": "markdown",
      "source": [
        "# Data Interogation\n",
        "I had a close look at the data to get familiar. First I looked at the matrices that we are going to feed to the classifier. I realized that there are 101 animals at the zoo. Because our model will have 16 variables at its disposal to classify the data, the data matrix has 16 columns."
      ],
      "metadata": {
        "id": "8XQIWnCuyQQ-"
      }
    },
    {
      "cell_type": "code",
      "metadata": {
        "id": "sIUZzdxjaLQW",
        "colab": {
          "base_uri": "https://localhost:8080/"
        },
        "outputId": "a41d6966-31b3-403d-dd59-0f67c3b71db9"
      },
      "source": [
        "# To help familiarize yourself with these matrices,\n",
        "# have a look at their 'shapes' and understand why they are so.\n",
        "print('X shape', X.shape)\n",
        "print('y shape', y.shape)"
      ],
      "execution_count": 5,
      "outputs": [
        {
          "output_type": "stream",
          "name": "stdout",
          "text": [
            "X shape (101, 16)\n",
            "y shape (101,)\n"
          ]
        }
      ]
    },
    {
      "cell_type": "markdown",
      "source": [
        "By looking at the animal names, I also realized that there were 100 names for 101 animals so there must be two with the same name."
      ],
      "metadata": {
        "id": "ZL8IsDK2zRWO"
      }
    },
    {
      "cell_type": "code",
      "source": [
        "print(len(zoo.loc[:, 'animal name']))\n",
        "print(len(zoo.loc[:, 'animal name'].unique()))"
      ],
      "metadata": {
        "colab": {
          "base_uri": "https://localhost:8080/"
        },
        "id": "1yezYTLAz4A1",
        "outputId": "a00e13a1-7d72-4524-b373-ee3df8859190"
      },
      "execution_count": null,
      "outputs": [
        {
          "output_type": "stream",
          "name": "stdout",
          "text": [
            "101\n",
            "100\n"
          ]
        }
      ]
    },
    {
      "cell_type": "markdown",
      "source": [
        "Last, I printed a nested list of all the animals of each type. This gave me a good feel for how the animals were to be classified and what some of the useful parameters might be. I also found out that there were two frogs."
      ],
      "metadata": {
        "id": "ddCaHZmn0PAa"
      }
    },
    {
      "cell_type": "code",
      "source": [
        "\n",
        "all_typed = [(zoo.loc[:, 'animal name'][i], zoo.loc[:, 'type'][i])\n",
        "  for i in range(len(zoo.loc[:, 'type']))]\n",
        "for z in zoo.loc[:, 'type'].unique():\n",
        "  print(\"Class {}\".format(z))\n",
        "  mask = zoo['type'] == z\n",
        "  #print(mask)\n",
        "  print(', '.join(zoo[mask].loc[:, 'animal name']))\n"
      ],
      "metadata": {
        "colab": {
          "base_uri": "https://localhost:8080/"
        },
        "id": "szv5i0Coz7lY",
        "outputId": "d871f5bb-efee-45c0-fc23-3e73eb7ba0f7"
      },
      "execution_count": null,
      "outputs": [
        {
          "output_type": "stream",
          "name": "stdout",
          "text": [
            "Class 1\n",
            "aardvark, antelope, bear, boar, buffalo, calf, cavy, cheetah, deer, dolphin, elephant, fruitbat, giraffe, girl, goat, gorilla, hamster, hare, leopard, lion, lynx, mink, mole, mongoose, opossum, oryx, platypus, polecat, pony, porpoise, puma, pussycat, raccoon, reindeer, seal, sealion, squirrel, vampire, vole, wallaby, wolf\n",
            "Class 4\n",
            "bass, carp, catfish, chub, dogfish, haddock, herring, pike, piranha, seahorse, sole, stingray, tuna\n",
            "Class 2\n",
            "chicken, crow, dove, duck, flamingo, gull, hawk, kiwi, lark, ostrich, parakeet, penguin, pheasant, rhea, skimmer, skua, sparrow, swan, vulture, wren\n",
            "Class 7\n",
            "clam, crab, crayfish, lobster, octopus, scorpion, seawasp, slug, starfish, worm\n",
            "Class 6\n",
            "flea, gnat, honeybee, housefly, ladybird, moth, termite, wasp\n",
            "Class 5\n",
            "frog, frog, newt, toad\n",
            "Class 3\n",
            "pitviper, seasnake, slowworm, tortoise, tuatara\n"
          ]
        }
      ]
    },
    {
      "cell_type": "markdown",
      "metadata": {
        "id": "XzAVz5oUY8LD"
      },
      "source": [
        "# ML Algorithm and Model\n",
        "\n",
        "I copied this code across from the examples section of the [documentation](https://scikit-learn.org/stable/modules/generated/sklearn.tree.DecisionTreeClassifier.html) for\n",
        "`sklearn.tree.DecisionTreeClassifier`. At first, I just built my classifier and tested it using the iris dataset as per the documentation. After I had the classifier working, and I'd tested the validation, I modified the code to use the zoo dataset. I experimented with the different outcomes that result from using the `max_depth` parameter versus the `max_leaf_nodes`.\n",
        "\n",
        "- `max_leaf_nodes` is like putting a cap on how many terminal leaves the tree can have. Think of each leaf as a final decision or outcome the tree can make. If you set this parameter, you're saying, “I don’t want more than X number of final decisions.” This helps in keeping the tree simpler by restricting how many different outcomes it can produce, which can prevent it from overfitting to the training data.\n",
        "\n",
        "- `max_depth`, on the other hand, limits how deep the tree can grow. It’s like saying, “I don’t want the tree to have more than X levels of decisions from the root to the leaves.” This controls how many splits or decision points there are from the start to the end of the tree. By limiting the depth, you ensure the tree doesn’t become too detailed and start capturing noise or irrelevant patterns in the training data.\n",
        "\n",
        "Setting `max_leaf_nodes = 6` for my classifier would force it to merge two of the smaller classes of animal."
      ]
    },
    {
      "cell_type": "code",
      "metadata": {
        "id": "_sjdwb_7Y1n7"
      },
      "source": [
        "from sklearn import tree\n",
        "# from sklearn.datasets import load_iris\n",
        "from sklearn.model_selection import train_test_split\n",
        "from sklearn.tree import DecisionTreeClassifier\n",
        "\n",
        "#iris = load_iris()\n",
        "#X = iris.data\n",
        "#y = iris.target\n",
        "\n",
        "\n",
        "clf = DecisionTreeClassifier(\n",
        "    max_depth=6,\n",
        "    #max_leaf_nodes=7,\n",
        "    random_state=0)\n",
        "\n"
      ],
      "execution_count": 6,
      "outputs": []
    },
    {
      "cell_type": "markdown",
      "metadata": {
        "id": "OdOdYHS2asMD"
      },
      "source": [
        "## Quality Metric and Model Tuning\n",
        "\n",
        "I found this code ofor splitting the data into training/testing subsets in the [`test_train_split`](https://scikit-learn.org/stable/modules/generated/sklearn.model_selection.train_test_split.html) documentation. I decided to use a third of the data for testing. The"
      ]
    },
    {
      "cell_type": "code",
      "metadata": {
        "id": "UuXC_2jRa9xn"
      },
      "source": [
        "\n",
        "X_train, X_test, y_train, y_test = train_test_split(X, y, test_size=0.33, random_state=0)"
      ],
      "execution_count": 8,
      "outputs": []
    },
    {
      "cell_type": "markdown",
      "metadata": {
        "id": "Dz1lHbPkbdjY"
      },
      "source": [
        "# Training"
      ]
    },
    {
      "cell_type": "code",
      "metadata": {
        "id": "pFA7KnKnbwvr",
        "colab": {
          "base_uri": "https://localhost:8080/",
          "height": 75
        },
        "outputId": "4d0645f6-9ab2-4d6b-de80-84efbd0c861b"
      },
      "source": [
        "\n",
        "clf.fit(X_train, y_train)\n"
      ],
      "execution_count": 9,
      "outputs": [
        {
          "output_type": "execute_result",
          "data": {
            "text/plain": [
              "DecisionTreeClassifier(max_depth=6, random_state=0)"
            ],
            "text/html": [
              "<style>#sk-container-id-1 {color: black;}#sk-container-id-1 pre{padding: 0;}#sk-container-id-1 div.sk-toggleable {background-color: white;}#sk-container-id-1 label.sk-toggleable__label {cursor: pointer;display: block;width: 100%;margin-bottom: 0;padding: 0.3em;box-sizing: border-box;text-align: center;}#sk-container-id-1 label.sk-toggleable__label-arrow:before {content: \"▸\";float: left;margin-right: 0.25em;color: #696969;}#sk-container-id-1 label.sk-toggleable__label-arrow:hover:before {color: black;}#sk-container-id-1 div.sk-estimator:hover label.sk-toggleable__label-arrow:before {color: black;}#sk-container-id-1 div.sk-toggleable__content {max-height: 0;max-width: 0;overflow: hidden;text-align: left;background-color: #f0f8ff;}#sk-container-id-1 div.sk-toggleable__content pre {margin: 0.2em;color: black;border-radius: 0.25em;background-color: #f0f8ff;}#sk-container-id-1 input.sk-toggleable__control:checked~div.sk-toggleable__content {max-height: 200px;max-width: 100%;overflow: auto;}#sk-container-id-1 input.sk-toggleable__control:checked~label.sk-toggleable__label-arrow:before {content: \"▾\";}#sk-container-id-1 div.sk-estimator input.sk-toggleable__control:checked~label.sk-toggleable__label {background-color: #d4ebff;}#sk-container-id-1 div.sk-label input.sk-toggleable__control:checked~label.sk-toggleable__label {background-color: #d4ebff;}#sk-container-id-1 input.sk-hidden--visually {border: 0;clip: rect(1px 1px 1px 1px);clip: rect(1px, 1px, 1px, 1px);height: 1px;margin: -1px;overflow: hidden;padding: 0;position: absolute;width: 1px;}#sk-container-id-1 div.sk-estimator {font-family: monospace;background-color: #f0f8ff;border: 1px dotted black;border-radius: 0.25em;box-sizing: border-box;margin-bottom: 0.5em;}#sk-container-id-1 div.sk-estimator:hover {background-color: #d4ebff;}#sk-container-id-1 div.sk-parallel-item::after {content: \"\";width: 100%;border-bottom: 1px solid gray;flex-grow: 1;}#sk-container-id-1 div.sk-label:hover label.sk-toggleable__label {background-color: #d4ebff;}#sk-container-id-1 div.sk-serial::before {content: \"\";position: absolute;border-left: 1px solid gray;box-sizing: border-box;top: 0;bottom: 0;left: 50%;z-index: 0;}#sk-container-id-1 div.sk-serial {display: flex;flex-direction: column;align-items: center;background-color: white;padding-right: 0.2em;padding-left: 0.2em;position: relative;}#sk-container-id-1 div.sk-item {position: relative;z-index: 1;}#sk-container-id-1 div.sk-parallel {display: flex;align-items: stretch;justify-content: center;background-color: white;position: relative;}#sk-container-id-1 div.sk-item::before, #sk-container-id-1 div.sk-parallel-item::before {content: \"\";position: absolute;border-left: 1px solid gray;box-sizing: border-box;top: 0;bottom: 0;left: 50%;z-index: -1;}#sk-container-id-1 div.sk-parallel-item {display: flex;flex-direction: column;z-index: 1;position: relative;background-color: white;}#sk-container-id-1 div.sk-parallel-item:first-child::after {align-self: flex-end;width: 50%;}#sk-container-id-1 div.sk-parallel-item:last-child::after {align-self: flex-start;width: 50%;}#sk-container-id-1 div.sk-parallel-item:only-child::after {width: 0;}#sk-container-id-1 div.sk-dashed-wrapped {border: 1px dashed gray;margin: 0 0.4em 0.5em 0.4em;box-sizing: border-box;padding-bottom: 0.4em;background-color: white;}#sk-container-id-1 div.sk-label label {font-family: monospace;font-weight: bold;display: inline-block;line-height: 1.2em;}#sk-container-id-1 div.sk-label-container {text-align: center;}#sk-container-id-1 div.sk-container {/* jupyter's `normalize.less` sets `[hidden] { display: none; }` but bootstrap.min.css set `[hidden] { display: none !important; }` so we also need the `!important` here to be able to override the default hidden behavior on the sphinx rendered scikit-learn.org. See: https://github.com/scikit-learn/scikit-learn/issues/21755 */display: inline-block !important;position: relative;}#sk-container-id-1 div.sk-text-repr-fallback {display: none;}</style><div id=\"sk-container-id-1\" class=\"sk-top-container\"><div class=\"sk-text-repr-fallback\"><pre>DecisionTreeClassifier(max_depth=6, random_state=0)</pre><b>In a Jupyter environment, please rerun this cell to show the HTML representation or trust the notebook. <br />On GitHub, the HTML representation is unable to render, please try loading this page with nbviewer.org.</b></div><div class=\"sk-container\" hidden><div class=\"sk-item\"><div class=\"sk-estimator sk-toggleable\"><input class=\"sk-toggleable__control sk-hidden--visually\" id=\"sk-estimator-id-1\" type=\"checkbox\" checked><label for=\"sk-estimator-id-1\" class=\"sk-toggleable__label sk-toggleable__label-arrow\">DecisionTreeClassifier</label><div class=\"sk-toggleable__content\"><pre>DecisionTreeClassifier(max_depth=6, random_state=0)</pre></div></div></div></div></div>"
            ]
          },
          "metadata": {},
          "execution_count": 9
        }
      ]
    },
    {
      "cell_type": "markdown",
      "source": [
        "Testing that the model can make predictions from the test data."
      ],
      "metadata": {
        "id": "0m6XI17b5LWI"
      }
    },
    {
      "cell_type": "code",
      "source": [
        "y_pred = clf.predict(X_test)\n",
        "print(y_pred)"
      ],
      "metadata": {
        "id": "0bCPy7ZHSQlV",
        "colab": {
          "base_uri": "https://localhost:8080/"
        },
        "outputId": "9927dd57-a467-4a88-e2fa-23a163222593"
      },
      "execution_count": 10,
      "outputs": [
        {
          "output_type": "stream",
          "name": "stdout",
          "text": [
            "[5 4 4 1 1 1 2 4 1 1 7 1 2 7 4 6 1 7 2 4 2 5 1 2 1 1 1 2 4 5 4 5 5 1]\n"
          ]
        }
      ]
    },
    {
      "cell_type": "markdown",
      "metadata": {
        "id": "yI8KdAq2dkoH"
      },
      "source": [
        "# Evaluation\n",
        "I started by calculating accuracy, precision and recall."
      ]
    },
    {
      "cell_type": "code",
      "metadata": {
        "id": "4BY_SdHedey6",
        "colab": {
          "base_uri": "https://localhost:8080/"
        },
        "outputId": "08c344eb-a72a-4a97-f977-c41fa5f20cb6"
      },
      "source": [
        "from sklearn.metrics import precision_score, recall_score\n",
        "\n",
        "# Calculate accuracy\n",
        "accuracy = clf.score(X_test, y_test)\n",
        "\n",
        "print(f\"Accuracy: {accuracy:.4f}\")\n",
        "\n",
        "# Calculate precision\n",
        "precision = precision_score(y_test, y_pred, average='weighted')\n",
        "\n",
        "print(f'Precision: {precision:.4f}')\n",
        "\n",
        "# Calculate recall\n",
        "recall = recall_score(y_test, y_pred, average='weighted')\n",
        "\n",
        "print(f'Recall: {recall:.4f}')"
      ],
      "execution_count": 11,
      "outputs": [
        {
          "output_type": "stream",
          "name": "stdout",
          "text": [
            "Accuracy: 0.8529\n",
            "Precision: 0.8392\n",
            "Recall: 0.8529\n"
          ]
        },
        {
          "output_type": "stream",
          "name": "stderr",
          "text": [
            "/usr/local/lib/python3.10/dist-packages/sklearn/metrics/_classification.py:1471: UndefinedMetricWarning: Precision is ill-defined and being set to 0.0 in labels with no predicted samples. Use `zero_division` parameter to control this behavior.\n",
            "  _warn_prf(average, modifier, msg_start, len(result))\n"
          ]
        }
      ]
    },
    {
      "cell_type": "markdown",
      "source": [
        "According to Chat GPT:\n",
        "> When evaluating a model, it's important to consider both accuracy and precision because they give us different insights into how well the model is performing.\n",
        "\n",
        ">Accuracy measures how often the model gets the right prediction overall. So, if your model is 90% accurate, it means it got 90 out of 100 predictions correct. Accuracy is a good overall measure, but it can be misleading in certain situations, especially when dealing with imbalanced datasets where some classes are much more common than others.\n",
        "\n",
        ">Precision, on the other hand, is more focused. It tells you how many of the predictions that the model made as positive (or the class of interest) are actually correct. For example, if your model says 10 emails are spam, but only 7 of them actually are spam, your precision would be 70%. Precision is crucial when the cost of false positives is high, like in medical diagnoses where misclassifying a healthy person as sick (false positive) could have serious consequences.\n"
      ],
      "metadata": {
        "id": "m-_0yvUs8ykO"
      }
    },
    {
      "cell_type": "markdown",
      "metadata": {
        "id": "OkccRCuLc9El"
      },
      "source": [
        "# Visualizing the model\n",
        "\n"
      ]
    },
    {
      "cell_type": "code",
      "metadata": {
        "id": "xezV43CcdMwR",
        "colab": {
          "base_uri": "https://localhost:8080/",
          "height": 934
        },
        "outputId": "2bef582e-b67b-42ea-8393-1fabf684736e"
      },
      "source": [
        "import graphviz\n",
        "\n",
        "# clf = # YOUR DECISON TREE CLASSIFIER HERE\n",
        "dot_data = tree.export_graphviz(clf, out_file=None,\n",
        "                      feature_names=features.columns,\n",
        "                      class_names=sorted(list(map(str, labels.unique()))),\n",
        "                      filled=True, rounded=True,\n",
        "                      special_characters=True,\n",
        "                      leaves_parallel = False,\n",
        "                      impurity = False,\n",
        "                      proportion=False)\n",
        "graph = graphviz.Source(dot_data)\n",
        "graph"
      ],
      "execution_count": 12,
      "outputs": [
        {
          "output_type": "execute_result",
          "data": {
            "image/svg+xml": "<?xml version=\"1.0\" encoding=\"UTF-8\" standalone=\"no\"?>\n<!DOCTYPE svg PUBLIC \"-//W3C//DTD SVG 1.1//EN\"\n \"http://www.w3.org/Graphics/SVG/1.1/DTD/svg11.dtd\">\n<!-- Generated by graphviz version 2.43.0 (0)\n -->\n<!-- Title: Tree Pages: 1 -->\n<svg width=\"943pt\" height=\"685pt\"\n viewBox=\"0.00 0.00 942.50 685.00\" xmlns=\"http://www.w3.org/2000/svg\" xmlns:xlink=\"http://www.w3.org/1999/xlink\">\n<g id=\"graph0\" class=\"graph\" transform=\"scale(1 1) rotate(0) translate(4 681)\">\n<title>Tree</title>\n<polygon fill=\"white\" stroke=\"transparent\" points=\"-4,4 -4,-681 938.5,-681 938.5,4 -4,4\"/>\n<!-- 0 -->\n<g id=\"node1\" class=\"node\">\n<title>0</title>\n<path fill=\"#f8dbc7\" stroke=\"black\" d=\"M828.5,-677C828.5,-677 667.5,-677 667.5,-677 661.5,-677 655.5,-671 655.5,-665 655.5,-665 655.5,-621 655.5,-621 655.5,-615 661.5,-609 667.5,-609 667.5,-609 828.5,-609 828.5,-609 834.5,-609 840.5,-615 840.5,-621 840.5,-621 840.5,-665 840.5,-665 840.5,-671 834.5,-677 828.5,-677\"/>\n<text text-anchor=\"start\" x=\"718.5\" y=\"-661.8\" font-family=\"Helvetica,sans-Serif\" font-size=\"14.00\">milk ≤ 0.5</text>\n<text text-anchor=\"start\" x=\"707\" y=\"-646.8\" font-family=\"Helvetica,sans-Serif\" font-size=\"14.00\">samples = 67</text>\n<text text-anchor=\"start\" x=\"663.5\" y=\"-631.8\" font-family=\"Helvetica,sans-Serif\" font-size=\"14.00\">value = [29, 14, 1, 6, 3, 6, 8]</text>\n<text text-anchor=\"start\" x=\"720.5\" y=\"-616.8\" font-family=\"Helvetica,sans-Serif\" font-size=\"14.00\">class = 1</text>\n</g>\n<!-- 1 -->\n<g id=\"node2\" class=\"node\">\n<title>1</title>\n<path fill=\"#f1fad7\" stroke=\"black\" d=\"M727.5,-573C727.5,-573 574.5,-573 574.5,-573 568.5,-573 562.5,-567 562.5,-561 562.5,-561 562.5,-517 562.5,-517 562.5,-511 568.5,-505 574.5,-505 574.5,-505 727.5,-505 727.5,-505 733.5,-505 739.5,-511 739.5,-517 739.5,-517 739.5,-561 739.5,-561 739.5,-567 733.5,-573 727.5,-573\"/>\n<text text-anchor=\"start\" x=\"609.5\" y=\"-557.8\" font-family=\"Helvetica,sans-Serif\" font-size=\"14.00\">feathers ≤ 0.5</text>\n<text text-anchor=\"start\" x=\"610\" y=\"-542.8\" font-family=\"Helvetica,sans-Serif\" font-size=\"14.00\">samples = 38</text>\n<text text-anchor=\"start\" x=\"570.5\" y=\"-527.8\" font-family=\"Helvetica,sans-Serif\" font-size=\"14.00\">value = [0, 14, 1, 6, 3, 6, 8]</text>\n<text text-anchor=\"start\" x=\"623.5\" y=\"-512.8\" font-family=\"Helvetica,sans-Serif\" font-size=\"14.00\">class = 2</text>\n</g>\n<!-- 0&#45;&gt;1 -->\n<g id=\"edge1\" class=\"edge\">\n<title>0&#45;&gt;1</title>\n<path fill=\"none\" stroke=\"black\" d=\"M716.51,-608.88C707.95,-599.89 698.59,-590.04 689.68,-580.68\"/>\n<polygon fill=\"black\" stroke=\"black\" points=\"692.09,-578.13 682.67,-573.3 687.02,-582.96 692.09,-578.13\"/>\n<text text-anchor=\"middle\" x=\"682.04\" y=\"-594.59\" font-family=\"Helvetica,sans-Serif\" font-size=\"14.00\">True</text>\n</g>\n<!-- 14 -->\n<g id=\"node15\" class=\"node\">\n<title>14</title>\n<path fill=\"#e58139\" stroke=\"black\" d=\"M922.5,-565.5C922.5,-565.5 769.5,-565.5 769.5,-565.5 763.5,-565.5 757.5,-559.5 757.5,-553.5 757.5,-553.5 757.5,-524.5 757.5,-524.5 757.5,-518.5 763.5,-512.5 769.5,-512.5 769.5,-512.5 922.5,-512.5 922.5,-512.5 928.5,-512.5 934.5,-518.5 934.5,-524.5 934.5,-524.5 934.5,-553.5 934.5,-553.5 934.5,-559.5 928.5,-565.5 922.5,-565.5\"/>\n<text text-anchor=\"start\" x=\"805\" y=\"-550.3\" font-family=\"Helvetica,sans-Serif\" font-size=\"14.00\">samples = 29</text>\n<text text-anchor=\"start\" x=\"765.5\" y=\"-535.3\" font-family=\"Helvetica,sans-Serif\" font-size=\"14.00\">value = [29, 0, 0, 0, 0, 0, 0]</text>\n<text text-anchor=\"start\" x=\"818.5\" y=\"-520.3\" font-family=\"Helvetica,sans-Serif\" font-size=\"14.00\">class = 1</text>\n</g>\n<!-- 0&#45;&gt;14 -->\n<g id=\"edge14\" class=\"edge\">\n<title>0&#45;&gt;14</title>\n<path fill=\"none\" stroke=\"black\" d=\"M779.82,-608.88C790.91,-597.34 803.35,-584.39 814.43,-572.86\"/>\n<polygon fill=\"black\" stroke=\"black\" points=\"817.08,-575.16 821.48,-565.52 812.03,-570.31 817.08,-575.16\"/>\n<text text-anchor=\"middle\" x=\"821.98\" y=\"-586.81\" font-family=\"Helvetica,sans-Serif\" font-size=\"14.00\">False</text>\n</g>\n<!-- 2 -->\n<g id=\"node3\" class=\"node\">\n<title>2</title>\n<path fill=\"#fce9f2\" stroke=\"black\" d=\"M628,-469C628,-469 482,-469 482,-469 476,-469 470,-463 470,-457 470,-457 470,-413 470,-413 470,-407 476,-401 482,-401 482,-401 628,-401 628,-401 634,-401 640,-407 640,-413 640,-413 640,-457 640,-457 640,-463 634,-469 628,-469\"/>\n<text text-anchor=\"start\" x=\"527.5\" y=\"-453.8\" font-family=\"Helvetica,sans-Serif\" font-size=\"14.00\">fins ≤ 0.5</text>\n<text text-anchor=\"start\" x=\"514\" y=\"-438.8\" font-family=\"Helvetica,sans-Serif\" font-size=\"14.00\">samples = 24</text>\n<text text-anchor=\"start\" x=\"478\" y=\"-423.8\" font-family=\"Helvetica,sans-Serif\" font-size=\"14.00\">value = [0, 0, 1, 6, 3, 6, 8]</text>\n<text text-anchor=\"start\" x=\"527.5\" y=\"-408.8\" font-family=\"Helvetica,sans-Serif\" font-size=\"14.00\">class = 7</text>\n</g>\n<!-- 1&#45;&gt;2 -->\n<g id=\"edge2\" class=\"edge\">\n<title>1&#45;&gt;2</title>\n<path fill=\"none\" stroke=\"black\" d=\"M619.83,-504.88C611.36,-495.89 602.1,-486.04 593.29,-476.68\"/>\n<polygon fill=\"black\" stroke=\"black\" points=\"595.74,-474.18 586.34,-469.3 590.65,-478.98 595.74,-474.18\"/>\n</g>\n<!-- 13 -->\n<g id=\"node14\" class=\"node\">\n<title>13</title>\n<path fill=\"#b7e539\" stroke=\"black\" d=\"M823.5,-461.5C823.5,-461.5 670.5,-461.5 670.5,-461.5 664.5,-461.5 658.5,-455.5 658.5,-449.5 658.5,-449.5 658.5,-420.5 658.5,-420.5 658.5,-414.5 664.5,-408.5 670.5,-408.5 670.5,-408.5 823.5,-408.5 823.5,-408.5 829.5,-408.5 835.5,-414.5 835.5,-420.5 835.5,-420.5 835.5,-449.5 835.5,-449.5 835.5,-455.5 829.5,-461.5 823.5,-461.5\"/>\n<text text-anchor=\"start\" x=\"706\" y=\"-446.3\" font-family=\"Helvetica,sans-Serif\" font-size=\"14.00\">samples = 14</text>\n<text text-anchor=\"start\" x=\"666.5\" y=\"-431.3\" font-family=\"Helvetica,sans-Serif\" font-size=\"14.00\">value = [0, 14, 0, 0, 0, 0, 0]</text>\n<text text-anchor=\"start\" x=\"719.5\" y=\"-416.3\" font-family=\"Helvetica,sans-Serif\" font-size=\"14.00\">class = 2</text>\n</g>\n<!-- 1&#45;&gt;13 -->\n<g id=\"edge13\" class=\"edge\">\n<title>1&#45;&gt;13</title>\n<path fill=\"none\" stroke=\"black\" d=\"M682.17,-504.88C693.04,-493.34 705.22,-480.39 716.07,-468.86\"/>\n<polygon fill=\"black\" stroke=\"black\" points=\"718.68,-471.2 722.98,-461.52 713.58,-466.4 718.68,-471.2\"/>\n</g>\n<!-- 3 -->\n<g id=\"node4\" class=\"node\">\n<title>3</title>\n<path fill=\"#fbdeeb\" stroke=\"black\" d=\"M534,-365C534,-365 388,-365 388,-365 382,-365 376,-359 376,-353 376,-353 376,-309 376,-309 376,-303 382,-297 388,-297 388,-297 534,-297 534,-297 540,-297 546,-303 546,-309 546,-309 546,-353 546,-353 546,-359 540,-365 534,-365\"/>\n<text text-anchor=\"start\" x=\"419\" y=\"-349.8\" font-family=\"Helvetica,sans-Serif\" font-size=\"14.00\">airborne ≤ 0.5</text>\n<text text-anchor=\"start\" x=\"420\" y=\"-334.8\" font-family=\"Helvetica,sans-Serif\" font-size=\"14.00\">samples = 18</text>\n<text text-anchor=\"start\" x=\"384\" y=\"-319.8\" font-family=\"Helvetica,sans-Serif\" font-size=\"14.00\">value = [0, 0, 1, 0, 3, 6, 8]</text>\n<text text-anchor=\"start\" x=\"433.5\" y=\"-304.8\" font-family=\"Helvetica,sans-Serif\" font-size=\"14.00\">class = 7</text>\n</g>\n<!-- 2&#45;&gt;3 -->\n<g id=\"edge3\" class=\"edge\">\n<title>2&#45;&gt;3</title>\n<path fill=\"none\" stroke=\"black\" d=\"M524.48,-400.88C516.19,-391.89 507.12,-382.04 498.49,-372.68\"/>\n<polygon fill=\"black\" stroke=\"black\" points=\"501.04,-370.28 491.69,-365.3 495.89,-375.02 501.04,-370.28\"/>\n</g>\n<!-- 12 -->\n<g id=\"node13\" class=\"node\">\n<title>12</title>\n<path fill=\"#39e5e2\" stroke=\"black\" d=\"M722,-357.5C722,-357.5 576,-357.5 576,-357.5 570,-357.5 564,-351.5 564,-345.5 564,-345.5 564,-316.5 564,-316.5 564,-310.5 570,-304.5 576,-304.5 576,-304.5 722,-304.5 722,-304.5 728,-304.5 734,-310.5 734,-316.5 734,-316.5 734,-345.5 734,-345.5 734,-351.5 728,-357.5 722,-357.5\"/>\n<text text-anchor=\"start\" x=\"611.5\" y=\"-342.3\" font-family=\"Helvetica,sans-Serif\" font-size=\"14.00\">samples = 6</text>\n<text text-anchor=\"start\" x=\"572\" y=\"-327.3\" font-family=\"Helvetica,sans-Serif\" font-size=\"14.00\">value = [0, 0, 0, 6, 0, 0, 0]</text>\n<text text-anchor=\"start\" x=\"621.5\" y=\"-312.3\" font-family=\"Helvetica,sans-Serif\" font-size=\"14.00\">class = 4</text>\n</g>\n<!-- 2&#45;&gt;12 -->\n<g id=\"edge12\" class=\"edge\">\n<title>2&#45;&gt;12</title>\n<path fill=\"none\" stroke=\"black\" d=\"M585.52,-400.88C596.06,-389.45 607.87,-376.63 618.41,-365.19\"/>\n<polygon fill=\"black\" stroke=\"black\" points=\"621.28,-367.25 625.48,-357.52 616.13,-362.5 621.28,-367.25\"/>\n</g>\n<!-- 4 -->\n<g id=\"node5\" class=\"node\">\n<title>4</title>\n<path fill=\"#f29cc2\" stroke=\"black\" d=\"M440,-261C440,-261 294,-261 294,-261 288,-261 282,-255 282,-249 282,-249 282,-205 282,-205 282,-199 288,-193 294,-193 294,-193 440,-193 440,-193 446,-193 452,-199 452,-205 452,-205 452,-249 452,-249 452,-255 446,-261 440,-261\"/>\n<text text-anchor=\"start\" x=\"320.5\" y=\"-245.8\" font-family=\"Helvetica,sans-Serif\" font-size=\"14.00\">backbone ≤ 0.5</text>\n<text text-anchor=\"start\" x=\"326\" y=\"-230.8\" font-family=\"Helvetica,sans-Serif\" font-size=\"14.00\">samples = 13</text>\n<text text-anchor=\"start\" x=\"290\" y=\"-215.8\" font-family=\"Helvetica,sans-Serif\" font-size=\"14.00\">value = [0, 0, 1, 0, 3, 1, 8]</text>\n<text text-anchor=\"start\" x=\"339.5\" y=\"-200.8\" font-family=\"Helvetica,sans-Serif\" font-size=\"14.00\">class = 7</text>\n</g>\n<!-- 3&#45;&gt;4 -->\n<g id=\"edge4\" class=\"edge\">\n<title>3&#45;&gt;4</title>\n<path fill=\"none\" stroke=\"black\" d=\"M430.48,-296.88C422.19,-287.89 413.12,-278.04 404.49,-268.68\"/>\n<polygon fill=\"black\" stroke=\"black\" points=\"407.04,-266.28 397.69,-261.3 401.89,-271.02 407.04,-266.28\"/>\n</g>\n<!-- 11 -->\n<g id=\"node12\" class=\"node\">\n<title>11</title>\n<path fill=\"#b139e5\" stroke=\"black\" d=\"M628,-253.5C628,-253.5 482,-253.5 482,-253.5 476,-253.5 470,-247.5 470,-241.5 470,-241.5 470,-212.5 470,-212.5 470,-206.5 476,-200.5 482,-200.5 482,-200.5 628,-200.5 628,-200.5 634,-200.5 640,-206.5 640,-212.5 640,-212.5 640,-241.5 640,-241.5 640,-247.5 634,-253.5 628,-253.5\"/>\n<text text-anchor=\"start\" x=\"517.5\" y=\"-238.3\" font-family=\"Helvetica,sans-Serif\" font-size=\"14.00\">samples = 5</text>\n<text text-anchor=\"start\" x=\"478\" y=\"-223.3\" font-family=\"Helvetica,sans-Serif\" font-size=\"14.00\">value = [0, 0, 0, 0, 0, 5, 0]</text>\n<text text-anchor=\"start\" x=\"527.5\" y=\"-208.3\" font-family=\"Helvetica,sans-Serif\" font-size=\"14.00\">class = 6</text>\n</g>\n<!-- 3&#45;&gt;11 -->\n<g id=\"edge11\" class=\"edge\">\n<title>3&#45;&gt;11</title>\n<path fill=\"none\" stroke=\"black\" d=\"M491.52,-296.88C502.06,-285.45 513.87,-272.63 524.41,-261.19\"/>\n<polygon fill=\"black\" stroke=\"black\" points=\"527.28,-263.25 531.48,-253.52 522.13,-258.5 527.28,-263.25\"/>\n</g>\n<!-- 5 -->\n<g id=\"node6\" class=\"node\">\n<title>5</title>\n<path fill=\"#e85295\" stroke=\"black\" d=\"M346,-157C346,-157 200,-157 200,-157 194,-157 188,-151 188,-145 188,-145 188,-101 188,-101 188,-95 194,-89 200,-89 200,-89 346,-89 346,-89 352,-89 358,-95 358,-101 358,-101 358,-145 358,-145 358,-151 352,-157 346,-157\"/>\n<text text-anchor=\"start\" x=\"230.5\" y=\"-141.8\" font-family=\"Helvetica,sans-Serif\" font-size=\"14.00\">predator ≤ 0.5</text>\n<text text-anchor=\"start\" x=\"235.5\" y=\"-126.8\" font-family=\"Helvetica,sans-Serif\" font-size=\"14.00\">samples = 9</text>\n<text text-anchor=\"start\" x=\"196\" y=\"-111.8\" font-family=\"Helvetica,sans-Serif\" font-size=\"14.00\">value = [0, 0, 0, 0, 0, 1, 8]</text>\n<text text-anchor=\"start\" x=\"245.5\" y=\"-96.8\" font-family=\"Helvetica,sans-Serif\" font-size=\"14.00\">class = 7</text>\n</g>\n<!-- 4&#45;&gt;5 -->\n<g id=\"edge5\" class=\"edge\">\n<title>4&#45;&gt;5</title>\n<path fill=\"none\" stroke=\"black\" d=\"M336.48,-192.88C328.19,-183.89 319.12,-174.04 310.49,-164.68\"/>\n<polygon fill=\"black\" stroke=\"black\" points=\"313.04,-162.28 303.69,-157.3 307.89,-167.02 313.04,-162.28\"/>\n</g>\n<!-- 8 -->\n<g id=\"node9\" class=\"node\">\n<title>8</title>\n<path fill=\"#7b8eee\" stroke=\"black\" d=\"M534,-157C534,-157 388,-157 388,-157 382,-157 376,-151 376,-145 376,-145 376,-101 376,-101 376,-95 382,-89 388,-89 388,-89 534,-89 534,-89 540,-89 546,-95 546,-101 546,-101 546,-145 546,-145 546,-151 540,-157 534,-157\"/>\n<text text-anchor=\"start\" x=\"423\" y=\"-141.8\" font-family=\"Helvetica,sans-Serif\" font-size=\"14.00\">catsize ≤ 0.5</text>\n<text text-anchor=\"start\" x=\"423.5\" y=\"-126.8\" font-family=\"Helvetica,sans-Serif\" font-size=\"14.00\">samples = 4</text>\n<text text-anchor=\"start\" x=\"384\" y=\"-111.8\" font-family=\"Helvetica,sans-Serif\" font-size=\"14.00\">value = [0, 0, 1, 0, 3, 0, 0]</text>\n<text text-anchor=\"start\" x=\"433.5\" y=\"-96.8\" font-family=\"Helvetica,sans-Serif\" font-size=\"14.00\">class = 5</text>\n</g>\n<!-- 4&#45;&gt;8 -->\n<g id=\"edge8\" class=\"edge\">\n<title>4&#45;&gt;8</title>\n<path fill=\"none\" stroke=\"black\" d=\"M397.52,-192.88C405.81,-183.89 414.88,-174.04 423.51,-164.68\"/>\n<polygon fill=\"black\" stroke=\"black\" points=\"426.11,-167.02 430.31,-157.3 420.96,-162.28 426.11,-167.02\"/>\n</g>\n<!-- 6 -->\n<g id=\"node7\" class=\"node\">\n<title>6</title>\n<path fill=\"#f29cc2\" stroke=\"black\" d=\"M158,-53C158,-53 12,-53 12,-53 6,-53 0,-47 0,-41 0,-41 0,-12 0,-12 0,-6 6,0 12,0 12,0 158,0 158,0 164,0 170,-6 170,-12 170,-12 170,-41 170,-41 170,-47 164,-53 158,-53\"/>\n<text text-anchor=\"start\" x=\"47.5\" y=\"-37.8\" font-family=\"Helvetica,sans-Serif\" font-size=\"14.00\">samples = 3</text>\n<text text-anchor=\"start\" x=\"8\" y=\"-22.8\" font-family=\"Helvetica,sans-Serif\" font-size=\"14.00\">value = [0, 0, 0, 0, 0, 1, 2]</text>\n<text text-anchor=\"start\" x=\"57.5\" y=\"-7.8\" font-family=\"Helvetica,sans-Serif\" font-size=\"14.00\">class = 7</text>\n</g>\n<!-- 5&#45;&gt;6 -->\n<g id=\"edge6\" class=\"edge\">\n<title>5&#45;&gt;6</title>\n<path fill=\"none\" stroke=\"black\" d=\"M207.25,-88.95C186.95,-78.75 164.72,-67.57 144.85,-57.59\"/>\n<polygon fill=\"black\" stroke=\"black\" points=\"146.41,-54.45 135.9,-53.09 143.27,-60.71 146.41,-54.45\"/>\n</g>\n<!-- 7 -->\n<g id=\"node8\" class=\"node\">\n<title>7</title>\n<path fill=\"#e53986\" stroke=\"black\" d=\"M346,-53C346,-53 200,-53 200,-53 194,-53 188,-47 188,-41 188,-41 188,-12 188,-12 188,-6 194,0 200,0 200,0 346,0 346,0 352,0 358,-6 358,-12 358,-12 358,-41 358,-41 358,-47 352,-53 346,-53\"/>\n<text text-anchor=\"start\" x=\"235.5\" y=\"-37.8\" font-family=\"Helvetica,sans-Serif\" font-size=\"14.00\">samples = 6</text>\n<text text-anchor=\"start\" x=\"196\" y=\"-22.8\" font-family=\"Helvetica,sans-Serif\" font-size=\"14.00\">value = [0, 0, 0, 0, 0, 0, 6]</text>\n<text text-anchor=\"start\" x=\"245.5\" y=\"-7.8\" font-family=\"Helvetica,sans-Serif\" font-size=\"14.00\">class = 7</text>\n</g>\n<!-- 5&#45;&gt;7 -->\n<g id=\"edge7\" class=\"edge\">\n<title>5&#45;&gt;7</title>\n<path fill=\"none\" stroke=\"black\" d=\"M273,-88.95C273,-80.72 273,-71.85 273,-63.48\"/>\n<polygon fill=\"black\" stroke=\"black\" points=\"276.5,-63.24 273,-53.24 269.5,-63.24 276.5,-63.24\"/>\n</g>\n<!-- 9 -->\n<g id=\"node10\" class=\"node\">\n<title>9</title>\n<path fill=\"#3956e5\" stroke=\"black\" d=\"M534,-53C534,-53 388,-53 388,-53 382,-53 376,-47 376,-41 376,-41 376,-12 376,-12 376,-6 382,0 388,0 388,0 534,0 534,0 540,0 546,-6 546,-12 546,-12 546,-41 546,-41 546,-47 540,-53 534,-53\"/>\n<text text-anchor=\"start\" x=\"423.5\" y=\"-37.8\" font-family=\"Helvetica,sans-Serif\" font-size=\"14.00\">samples = 3</text>\n<text text-anchor=\"start\" x=\"384\" y=\"-22.8\" font-family=\"Helvetica,sans-Serif\" font-size=\"14.00\">value = [0, 0, 0, 0, 3, 0, 0]</text>\n<text text-anchor=\"start\" x=\"433.5\" y=\"-7.8\" font-family=\"Helvetica,sans-Serif\" font-size=\"14.00\">class = 5</text>\n</g>\n<!-- 8&#45;&gt;9 -->\n<g id=\"edge9\" class=\"edge\">\n<title>8&#45;&gt;9</title>\n<path fill=\"none\" stroke=\"black\" d=\"M461,-88.95C461,-80.72 461,-71.85 461,-63.48\"/>\n<polygon fill=\"black\" stroke=\"black\" points=\"464.5,-63.24 461,-53.24 457.5,-63.24 464.5,-63.24\"/>\n</g>\n<!-- 10 -->\n<g id=\"node11\" class=\"node\">\n<title>10</title>\n<path fill=\"#39e54d\" stroke=\"black\" d=\"M722,-53C722,-53 576,-53 576,-53 570,-53 564,-47 564,-41 564,-41 564,-12 564,-12 564,-6 570,0 576,0 576,0 722,0 722,0 728,0 734,-6 734,-12 734,-12 734,-41 734,-41 734,-47 728,-53 722,-53\"/>\n<text text-anchor=\"start\" x=\"611.5\" y=\"-37.8\" font-family=\"Helvetica,sans-Serif\" font-size=\"14.00\">samples = 1</text>\n<text text-anchor=\"start\" x=\"572\" y=\"-22.8\" font-family=\"Helvetica,sans-Serif\" font-size=\"14.00\">value = [0, 0, 1, 0, 0, 0, 0]</text>\n<text text-anchor=\"start\" x=\"621.5\" y=\"-7.8\" font-family=\"Helvetica,sans-Serif\" font-size=\"14.00\">class = 3</text>\n</g>\n<!-- 8&#45;&gt;10 -->\n<g id=\"edge10\" class=\"edge\">\n<title>8&#45;&gt;10</title>\n<path fill=\"none\" stroke=\"black\" d=\"M526.75,-88.95C547.05,-78.75 569.28,-67.57 589.15,-57.59\"/>\n<polygon fill=\"black\" stroke=\"black\" points=\"590.73,-60.71 598.1,-53.09 587.59,-54.45 590.73,-60.71\"/>\n</g>\n</g>\n</svg>\n",
            "text/plain": [
              "<graphviz.sources.Source at 0x7aa0b330fa00>"
            ]
          },
          "metadata": {},
          "execution_count": 12
        }
      ]
    },
    {
      "cell_type": "code",
      "source": [
        "for z in zoo.loc[:, 'type'].unique():\n",
        "  print(\"Class {}\".format(z))\n",
        "  mask = zoo['type'] == z\n",
        "  #print(mask)\n",
        "  print(', '.join(zoo[mask].loc[:, 'animal name']))"
      ],
      "metadata": {
        "colab": {
          "base_uri": "https://localhost:8080/"
        },
        "id": "8GY9ZxjX6Foe",
        "outputId": "a7ed8ea7-fc72-43d7-9a42-aad19a1acf82"
      },
      "execution_count": 13,
      "outputs": [
        {
          "output_type": "stream",
          "name": "stdout",
          "text": [
            "Class 1\n",
            "aardvark, antelope, bear, boar, buffalo, calf, cavy, cheetah, deer, dolphin, elephant, fruitbat, giraffe, girl, goat, gorilla, hamster, hare, leopard, lion, lynx, mink, mole, mongoose, opossum, oryx, platypus, polecat, pony, porpoise, puma, pussycat, raccoon, reindeer, seal, sealion, squirrel, vampire, vole, wallaby, wolf\n",
            "Class 4\n",
            "bass, carp, catfish, chub, dogfish, haddock, herring, pike, piranha, seahorse, sole, stingray, tuna\n",
            "Class 2\n",
            "chicken, crow, dove, duck, flamingo, gull, hawk, kiwi, lark, ostrich, parakeet, penguin, pheasant, rhea, skimmer, skua, sparrow, swan, vulture, wren\n",
            "Class 7\n",
            "clam, crab, crayfish, lobster, octopus, scorpion, seawasp, slug, starfish, worm\n",
            "Class 6\n",
            "flea, gnat, honeybee, housefly, ladybird, moth, termite, wasp\n",
            "Class 5\n",
            "frog, frog, newt, toad\n",
            "Class 3\n",
            "pitviper, seasnake, slowworm, tortoise, tuatara\n"
          ]
        }
      ]
    },
    {
      "cell_type": "markdown",
      "source": [
        "# Feature Importance Evaluation\n",
        "\n",
        "It seemed that the milk feature is the best classifier that allows the model to correctly classify almost half of the data in the first step. Milk is a feature unique to the mammals in the dataset. Looking at the list, our target \"Type 1\" is just mammals.\n",
        "\n",
        "I decided to do a bit of feature abiation. By removing the milk column from the input data I assessed the impact on the model's performance and the structure of the resulting tree.\n",
        "\n",
        "Without the milk column, the tree structure was a lot more complicated and, fiddling with the `max_depth` parameter, it seemed that the model now benefitted from more depth. The model didn't perform as well as it did with the milk even though it"
      ],
      "metadata": {
        "id": "-Yj2vVUB3OWr"
      }
    },
    {
      "cell_type": "code",
      "source": [
        "from sklearn import tree\n",
        "from sklearn.model_selection import train_test_split\n",
        "from sklearn.tree import DecisionTreeClassifier\n",
        "import numpy as np\n",
        "import matplotlib.pyplot as plt\n",
        "import seaborn as sns; sns.set()\n",
        "from IPython.display import display\n",
        "import pandas as pd\n",
        "from sklearn.metrics import precision_score, recall_score, accuracy_score\n",
        "import graphviz\n",
        "\n",
        "# Because the data file doesn't have header names, we'll list them here\n",
        "# You can find a description of the data file at\n",
        "# http://archive.ics.uci.edu/ml/machine-learning-databases/zoo/zoo.names\n",
        "feature_names = ['animal name', 'hair', 'feathers', 'eggs', 'milk', 'airborne',\n",
        "                 'aquatic', 'predator', 'toothed', 'backbone', 'breathes',\n",
        "                 'venomous', 'fins', 'legs', 'tail', 'domestic', 'catsize',\n",
        "                 'type']\n",
        "\n",
        "# Import the \"zoo\" dataset\n",
        "# zoo = pd.read_csv('zoo.data', names = feature_names)\n",
        "\n",
        "zoo_no_milk = zoo.drop('milk', axis=1)\n",
        "\n",
        "features2 = zoo_no_milk.loc[:, 'hair':'catsize'] # Omit animal name\n",
        "labels2 = zoo_no_milk.loc[:, 'type']\n",
        "\n",
        "X = features2.to_numpy()\n",
        "y = labels2.to_numpy()\n",
        "\n",
        "clf2 = DecisionTreeClassifier(max_depth=8)\n",
        "\n",
        "X_train, X_test, y_train, y_test = train_test_split(X, y, test_size=0.33)\n",
        "\n",
        "clf2.fit(X_train, y_train)\n",
        "y_pred = clf2.predict(X_test)\n",
        "\n",
        "###### Test\n",
        "\n",
        "# Calculate accuracy, precision and recall\n",
        "print(f\"Training Accuracy: {clf2.score(X_train, y_train):.4f}\")\n",
        "print(f\"Testing Accuracy: {clf2.score(X_test, y_test):.4f}\")\n",
        "print(f\"Precision: {precision_score(y_test, y_pred, average='weighted'):.4f}\")\n",
        "print(f\"Recall: {recall_score(y_test, y_pred, average='weighted'):.4f}\")\n",
        "\n",
        "###### Visualize\n",
        "graphviz.Source(tree.export_graphviz(clf2, out_file=None,\n",
        "                      feature_names=features2.columns,\n",
        "                      class_names=sorted(list(map(str, labels2.unique()))),\n",
        "                      filled=True, rounded=True,\n",
        "                      special_characters=True,\n",
        "                      leaves_parallel = False,\n",
        "                      impurity = False,\n",
        "                      proportion=False)\n",
        "  )"
      ],
      "metadata": {
        "colab": {
          "base_uri": "https://localhost:8080/",
          "height": 1000
        },
        "id": "ayKM2ci1rvC0",
        "outputId": "8ff7e4a4-b4b4-43c4-e652-7c95e73a263c"
      },
      "execution_count": 14,
      "outputs": [
        {
          "output_type": "stream",
          "name": "stdout",
          "text": [
            "Training Accuracy: 1.0000\n",
            "Testing Accuracy: 0.9118\n",
            "Precision: 0.9150\n",
            "Recall: 0.9118\n"
          ]
        },
        {
          "output_type": "stream",
          "name": "stderr",
          "text": [
            "/usr/local/lib/python3.10/dist-packages/sklearn/metrics/_classification.py:1471: UndefinedMetricWarning: Precision is ill-defined and being set to 0.0 in labels with no predicted samples. Use `zero_division` parameter to control this behavior.\n",
            "  _warn_prf(average, modifier, msg_start, len(result))\n",
            "/usr/local/lib/python3.10/dist-packages/sklearn/metrics/_classification.py:1471: UndefinedMetricWarning: Recall is ill-defined and being set to 0.0 in labels with no true samples. Use `zero_division` parameter to control this behavior.\n",
            "  _warn_prf(average, modifier, msg_start, len(result))\n"
          ]
        },
        {
          "output_type": "execute_result",
          "data": {
            "image/svg+xml": "<?xml version=\"1.0\" encoding=\"UTF-8\" standalone=\"no\"?>\n<!DOCTYPE svg PUBLIC \"-//W3C//DTD SVG 1.1//EN\"\n \"http://www.w3.org/Graphics/SVG/1.1/DTD/svg11.dtd\">\n<!-- Generated by graphviz version 2.43.0 (0)\n -->\n<!-- Title: Tree Pages: 1 -->\n<svg width=\"750pt\" height=\"685pt\"\n viewBox=\"0.00 0.00 749.50 685.00\" xmlns=\"http://www.w3.org/2000/svg\" xmlns:xlink=\"http://www.w3.org/1999/xlink\">\n<g id=\"graph0\" class=\"graph\" transform=\"scale(1 1) rotate(0) translate(4 681)\">\n<title>Tree</title>\n<polygon fill=\"white\" stroke=\"transparent\" points=\"-4,4 -4,-681 745.5,-681 745.5,4 -4,4\"/>\n<!-- 0 -->\n<g id=\"node1\" class=\"node\">\n<title>0</title>\n<path fill=\"#f9e4d4\" stroke=\"black\" d=\"M539.5,-677C539.5,-677 378.5,-677 378.5,-677 372.5,-677 366.5,-671 366.5,-665 366.5,-665 366.5,-621 366.5,-621 366.5,-615 372.5,-609 378.5,-609 378.5,-609 539.5,-609 539.5,-609 545.5,-609 551.5,-615 551.5,-621 551.5,-621 551.5,-665 551.5,-665 551.5,-671 545.5,-677 539.5,-677\"/>\n<text text-anchor=\"start\" x=\"427\" y=\"-661.8\" font-family=\"Helvetica,sans-Serif\" font-size=\"14.00\">eggs ≤ 0.5</text>\n<text text-anchor=\"start\" x=\"418\" y=\"-646.8\" font-family=\"Helvetica,sans-Serif\" font-size=\"14.00\">samples = 67</text>\n<text text-anchor=\"start\" x=\"374.5\" y=\"-631.8\" font-family=\"Helvetica,sans-Serif\" font-size=\"14.00\">value = [24, 12, 4, 9, 4, 6, 8]</text>\n<text text-anchor=\"start\" x=\"431.5\" y=\"-616.8\" font-family=\"Helvetica,sans-Serif\" font-size=\"14.00\">class = 1</text>\n</g>\n<!-- 1 -->\n<g id=\"node2\" class=\"node\">\n<title>1</title>\n<path fill=\"#e58139\" stroke=\"black\" d=\"M438.5,-565.5C438.5,-565.5 285.5,-565.5 285.5,-565.5 279.5,-565.5 273.5,-559.5 273.5,-553.5 273.5,-553.5 273.5,-524.5 273.5,-524.5 273.5,-518.5 279.5,-512.5 285.5,-512.5 285.5,-512.5 438.5,-512.5 438.5,-512.5 444.5,-512.5 450.5,-518.5 450.5,-524.5 450.5,-524.5 450.5,-553.5 450.5,-553.5 450.5,-559.5 444.5,-565.5 438.5,-565.5\"/>\n<text text-anchor=\"start\" x=\"321\" y=\"-550.3\" font-family=\"Helvetica,sans-Serif\" font-size=\"14.00\">samples = 24</text>\n<text text-anchor=\"start\" x=\"281.5\" y=\"-535.3\" font-family=\"Helvetica,sans-Serif\" font-size=\"14.00\">value = [24, 0, 0, 0, 0, 0, 0]</text>\n<text text-anchor=\"start\" x=\"334.5\" y=\"-520.3\" font-family=\"Helvetica,sans-Serif\" font-size=\"14.00\">class = 1</text>\n</g>\n<!-- 0&#45;&gt;1 -->\n<g id=\"edge1\" class=\"edge\">\n<title>0&#45;&gt;1</title>\n<path fill=\"none\" stroke=\"black\" d=\"M427.51,-608.88C416.53,-597.34 404.21,-584.39 393.25,-572.86\"/>\n<polygon fill=\"black\" stroke=\"black\" points=\"395.7,-570.35 386.27,-565.52 390.62,-575.18 395.7,-570.35\"/>\n<text text-anchor=\"middle\" x=\"385.64\" y=\"-586.81\" font-family=\"Helvetica,sans-Serif\" font-size=\"14.00\">True</text>\n</g>\n<!-- 2 -->\n<g id=\"node3\" class=\"node\">\n<title>2</title>\n<path fill=\"#f9fdee\" stroke=\"black\" d=\"M633.5,-573C633.5,-573 480.5,-573 480.5,-573 474.5,-573 468.5,-567 468.5,-561 468.5,-561 468.5,-517 468.5,-517 468.5,-511 474.5,-505 480.5,-505 480.5,-505 633.5,-505 633.5,-505 639.5,-505 645.5,-511 645.5,-517 645.5,-517 645.5,-561 645.5,-561 645.5,-567 639.5,-573 633.5,-573\"/>\n<text text-anchor=\"start\" x=\"515.5\" y=\"-557.8\" font-family=\"Helvetica,sans-Serif\" font-size=\"14.00\">feathers ≤ 0.5</text>\n<text text-anchor=\"start\" x=\"516\" y=\"-542.8\" font-family=\"Helvetica,sans-Serif\" font-size=\"14.00\">samples = 43</text>\n<text text-anchor=\"start\" x=\"476.5\" y=\"-527.8\" font-family=\"Helvetica,sans-Serif\" font-size=\"14.00\">value = [0, 12, 4, 9, 4, 6, 8]</text>\n<text text-anchor=\"start\" x=\"529.5\" y=\"-512.8\" font-family=\"Helvetica,sans-Serif\" font-size=\"14.00\">class = 2</text>\n</g>\n<!-- 0&#45;&gt;2 -->\n<g id=\"edge2\" class=\"edge\">\n<title>0&#45;&gt;2</title>\n<path fill=\"none\" stroke=\"black\" d=\"M490.82,-608.88C499.46,-599.89 508.92,-590.04 517.92,-580.68\"/>\n<polygon fill=\"black\" stroke=\"black\" points=\"520.6,-582.94 525.01,-573.3 515.55,-578.09 520.6,-582.94\"/>\n<text text-anchor=\"middle\" x=\"525.51\" y=\"-594.59\" font-family=\"Helvetica,sans-Serif\" font-size=\"14.00\">False</text>\n</g>\n<!-- 3 -->\n<g id=\"node4\" class=\"node\">\n<title>3</title>\n<path fill=\"#f6fefe\" stroke=\"black\" d=\"M534,-469C534,-469 388,-469 388,-469 382,-469 376,-463 376,-457 376,-457 376,-413 376,-413 376,-407 382,-401 388,-401 388,-401 534,-401 534,-401 540,-401 546,-407 546,-413 546,-413 546,-457 546,-457 546,-463 540,-469 534,-469\"/>\n<text text-anchor=\"start\" x=\"433.5\" y=\"-453.8\" font-family=\"Helvetica,sans-Serif\" font-size=\"14.00\">fins ≤ 0.5</text>\n<text text-anchor=\"start\" x=\"420\" y=\"-438.8\" font-family=\"Helvetica,sans-Serif\" font-size=\"14.00\">samples = 31</text>\n<text text-anchor=\"start\" x=\"384\" y=\"-423.8\" font-family=\"Helvetica,sans-Serif\" font-size=\"14.00\">value = [0, 0, 4, 9, 4, 6, 8]</text>\n<text text-anchor=\"start\" x=\"433.5\" y=\"-408.8\" font-family=\"Helvetica,sans-Serif\" font-size=\"14.00\">class = 4</text>\n</g>\n<!-- 2&#45;&gt;3 -->\n<g id=\"edge3\" class=\"edge\">\n<title>2&#45;&gt;3</title>\n<path fill=\"none\" stroke=\"black\" d=\"M525.83,-504.88C517.36,-495.89 508.1,-486.04 499.29,-476.68\"/>\n<polygon fill=\"black\" stroke=\"black\" points=\"501.74,-474.18 492.34,-469.3 496.65,-478.98 501.74,-474.18\"/>\n</g>\n<!-- 14 -->\n<g id=\"node15\" class=\"node\">\n<title>14</title>\n<path fill=\"#b7e539\" stroke=\"black\" d=\"M729.5,-461.5C729.5,-461.5 576.5,-461.5 576.5,-461.5 570.5,-461.5 564.5,-455.5 564.5,-449.5 564.5,-449.5 564.5,-420.5 564.5,-420.5 564.5,-414.5 570.5,-408.5 576.5,-408.5 576.5,-408.5 729.5,-408.5 729.5,-408.5 735.5,-408.5 741.5,-414.5 741.5,-420.5 741.5,-420.5 741.5,-449.5 741.5,-449.5 741.5,-455.5 735.5,-461.5 729.5,-461.5\"/>\n<text text-anchor=\"start\" x=\"612\" y=\"-446.3\" font-family=\"Helvetica,sans-Serif\" font-size=\"14.00\">samples = 12</text>\n<text text-anchor=\"start\" x=\"572.5\" y=\"-431.3\" font-family=\"Helvetica,sans-Serif\" font-size=\"14.00\">value = [0, 12, 0, 0, 0, 0, 0]</text>\n<text text-anchor=\"start\" x=\"625.5\" y=\"-416.3\" font-family=\"Helvetica,sans-Serif\" font-size=\"14.00\">class = 2</text>\n</g>\n<!-- 2&#45;&gt;14 -->\n<g id=\"edge14\" class=\"edge\">\n<title>2&#45;&gt;14</title>\n<path fill=\"none\" stroke=\"black\" d=\"M588.17,-504.88C599.04,-493.34 611.22,-480.39 622.07,-468.86\"/>\n<polygon fill=\"black\" stroke=\"black\" points=\"624.68,-471.2 628.98,-461.52 619.58,-466.4 624.68,-471.2\"/>\n</g>\n<!-- 4 -->\n<g id=\"node5\" class=\"node\">\n<title>4</title>\n<path fill=\"#fce6f0\" stroke=\"black\" d=\"M440,-365C440,-365 294,-365 294,-365 288,-365 282,-359 282,-353 282,-353 282,-309 282,-309 282,-303 288,-297 294,-297 294,-297 440,-297 440,-297 446,-297 452,-303 452,-309 452,-309 452,-353 452,-353 452,-359 446,-365 440,-365\"/>\n<text text-anchor=\"start\" x=\"320.5\" y=\"-349.8\" font-family=\"Helvetica,sans-Serif\" font-size=\"14.00\">backbone ≤ 0.5</text>\n<text text-anchor=\"start\" x=\"326\" y=\"-334.8\" font-family=\"Helvetica,sans-Serif\" font-size=\"14.00\">samples = 22</text>\n<text text-anchor=\"start\" x=\"290\" y=\"-319.8\" font-family=\"Helvetica,sans-Serif\" font-size=\"14.00\">value = [0, 0, 4, 0, 4, 6, 8]</text>\n<text text-anchor=\"start\" x=\"339.5\" y=\"-304.8\" font-family=\"Helvetica,sans-Serif\" font-size=\"14.00\">class = 7</text>\n</g>\n<!-- 3&#45;&gt;4 -->\n<g id=\"edge4\" class=\"edge\">\n<title>3&#45;&gt;4</title>\n<path fill=\"none\" stroke=\"black\" d=\"M430.48,-400.88C422.19,-391.89 413.12,-382.04 404.49,-372.68\"/>\n<polygon fill=\"black\" stroke=\"black\" points=\"407.04,-370.28 397.69,-365.3 401.89,-375.02 407.04,-370.28\"/>\n</g>\n<!-- 13 -->\n<g id=\"node14\" class=\"node\">\n<title>13</title>\n<path fill=\"#39e5e2\" stroke=\"black\" d=\"M628,-357.5C628,-357.5 482,-357.5 482,-357.5 476,-357.5 470,-351.5 470,-345.5 470,-345.5 470,-316.5 470,-316.5 470,-310.5 476,-304.5 482,-304.5 482,-304.5 628,-304.5 628,-304.5 634,-304.5 640,-310.5 640,-316.5 640,-316.5 640,-345.5 640,-345.5 640,-351.5 634,-357.5 628,-357.5\"/>\n<text text-anchor=\"start\" x=\"517.5\" y=\"-342.3\" font-family=\"Helvetica,sans-Serif\" font-size=\"14.00\">samples = 9</text>\n<text text-anchor=\"start\" x=\"478\" y=\"-327.3\" font-family=\"Helvetica,sans-Serif\" font-size=\"14.00\">value = [0, 0, 0, 9, 0, 0, 0]</text>\n<text text-anchor=\"start\" x=\"527.5\" y=\"-312.3\" font-family=\"Helvetica,sans-Serif\" font-size=\"14.00\">class = 4</text>\n</g>\n<!-- 3&#45;&gt;13 -->\n<g id=\"edge13\" class=\"edge\">\n<title>3&#45;&gt;13</title>\n<path fill=\"none\" stroke=\"black\" d=\"M491.52,-400.88C502.06,-389.45 513.87,-376.63 524.41,-365.19\"/>\n<polygon fill=\"black\" stroke=\"black\" points=\"527.28,-367.25 531.48,-357.52 522.13,-362.5 527.28,-367.25\"/>\n</g>\n<!-- 5 -->\n<g id=\"node6\" class=\"node\">\n<title>5</title>\n<path fill=\"#f8cee1\" stroke=\"black\" d=\"M346,-261C346,-261 200,-261 200,-261 194,-261 188,-255 188,-249 188,-249 188,-205 188,-205 188,-199 194,-193 200,-193 200,-193 346,-193 346,-193 352,-193 358,-199 358,-205 358,-205 358,-249 358,-249 358,-255 352,-261 346,-261\"/>\n<text text-anchor=\"start\" x=\"229.5\" y=\"-245.8\" font-family=\"Helvetica,sans-Serif\" font-size=\"14.00\">breathes ≤ 0.5</text>\n<text text-anchor=\"start\" x=\"232\" y=\"-230.8\" font-family=\"Helvetica,sans-Serif\" font-size=\"14.00\">samples = 14</text>\n<text text-anchor=\"start\" x=\"196\" y=\"-215.8\" font-family=\"Helvetica,sans-Serif\" font-size=\"14.00\">value = [0, 0, 0, 0, 0, 6, 8]</text>\n<text text-anchor=\"start\" x=\"245.5\" y=\"-200.8\" font-family=\"Helvetica,sans-Serif\" font-size=\"14.00\">class = 7</text>\n</g>\n<!-- 4&#45;&gt;5 -->\n<g id=\"edge5\" class=\"edge\">\n<title>4&#45;&gt;5</title>\n<path fill=\"none\" stroke=\"black\" d=\"M336.48,-296.88C328.19,-287.89 319.12,-278.04 310.49,-268.68\"/>\n<polygon fill=\"black\" stroke=\"black\" points=\"313.04,-266.28 303.69,-261.3 307.89,-271.02 313.04,-266.28\"/>\n</g>\n<!-- 10 -->\n<g id=\"node11\" class=\"node\">\n<title>10</title>\n<path fill=\"#ffffff\" stroke=\"black\" d=\"M534,-261C534,-261 388,-261 388,-261 382,-261 376,-255 376,-249 376,-249 376,-205 376,-205 376,-199 382,-193 388,-193 388,-193 534,-193 534,-193 540,-193 546,-199 546,-205 546,-205 546,-249 546,-249 546,-255 540,-261 534,-261\"/>\n<text text-anchor=\"start\" x=\"422\" y=\"-245.8\" font-family=\"Helvetica,sans-Serif\" font-size=\"14.00\">aquatic ≤ 0.5</text>\n<text text-anchor=\"start\" x=\"423.5\" y=\"-230.8\" font-family=\"Helvetica,sans-Serif\" font-size=\"14.00\">samples = 8</text>\n<text text-anchor=\"start\" x=\"384\" y=\"-215.8\" font-family=\"Helvetica,sans-Serif\" font-size=\"14.00\">value = [0, 0, 4, 0, 4, 0, 0]</text>\n<text text-anchor=\"start\" x=\"433.5\" y=\"-200.8\" font-family=\"Helvetica,sans-Serif\" font-size=\"14.00\">class = 3</text>\n</g>\n<!-- 4&#45;&gt;10 -->\n<g id=\"edge10\" class=\"edge\">\n<title>4&#45;&gt;10</title>\n<path fill=\"none\" stroke=\"black\" d=\"M397.52,-296.88C405.81,-287.89 414.88,-278.04 423.51,-268.68\"/>\n<polygon fill=\"black\" stroke=\"black\" points=\"426.11,-271.02 430.31,-261.3 420.96,-266.28 426.11,-271.02\"/>\n</g>\n<!-- 6 -->\n<g id=\"node7\" class=\"node\">\n<title>6</title>\n<path fill=\"#e53986\" stroke=\"black\" d=\"M158,-149.5C158,-149.5 12,-149.5 12,-149.5 6,-149.5 0,-143.5 0,-137.5 0,-137.5 0,-108.5 0,-108.5 0,-102.5 6,-96.5 12,-96.5 12,-96.5 158,-96.5 158,-96.5 164,-96.5 170,-102.5 170,-108.5 170,-108.5 170,-137.5 170,-137.5 170,-143.5 164,-149.5 158,-149.5\"/>\n<text text-anchor=\"start\" x=\"47.5\" y=\"-134.3\" font-family=\"Helvetica,sans-Serif\" font-size=\"14.00\">samples = 6</text>\n<text text-anchor=\"start\" x=\"8\" y=\"-119.3\" font-family=\"Helvetica,sans-Serif\" font-size=\"14.00\">value = [0, 0, 0, 0, 0, 0, 6]</text>\n<text text-anchor=\"start\" x=\"57.5\" y=\"-104.3\" font-family=\"Helvetica,sans-Serif\" font-size=\"14.00\">class = 7</text>\n</g>\n<!-- 5&#45;&gt;6 -->\n<g id=\"edge6\" class=\"edge\">\n<title>5&#45;&gt;6</title>\n<path fill=\"none\" stroke=\"black\" d=\"M211.96,-192.88C189.16,-180.51 163.39,-166.53 141.06,-154.41\"/>\n<polygon fill=\"black\" stroke=\"black\" points=\"142.5,-151.21 132.04,-149.52 139.16,-157.37 142.5,-151.21\"/>\n</g>\n<!-- 7 -->\n<g id=\"node8\" class=\"node\">\n<title>7</title>\n<path fill=\"#cb7bee\" stroke=\"black\" d=\"M346,-157C346,-157 200,-157 200,-157 194,-157 188,-151 188,-145 188,-145 188,-101 188,-101 188,-95 194,-89 200,-89 200,-89 346,-89 346,-89 352,-89 358,-95 358,-101 358,-101 358,-145 358,-145 358,-151 352,-157 346,-157\"/>\n<text text-anchor=\"start\" x=\"243.5\" y=\"-141.8\" font-family=\"Helvetica,sans-Serif\" font-size=\"14.00\">legs ≤ 3.0</text>\n<text text-anchor=\"start\" x=\"235.5\" y=\"-126.8\" font-family=\"Helvetica,sans-Serif\" font-size=\"14.00\">samples = 8</text>\n<text text-anchor=\"start\" x=\"196\" y=\"-111.8\" font-family=\"Helvetica,sans-Serif\" font-size=\"14.00\">value = [0, 0, 0, 0, 0, 6, 2]</text>\n<text text-anchor=\"start\" x=\"245.5\" y=\"-96.8\" font-family=\"Helvetica,sans-Serif\" font-size=\"14.00\">class = 6</text>\n</g>\n<!-- 5&#45;&gt;7 -->\n<g id=\"edge7\" class=\"edge\">\n<title>5&#45;&gt;7</title>\n<path fill=\"none\" stroke=\"black\" d=\"M273,-192.88C273,-184.78 273,-175.98 273,-167.47\"/>\n<polygon fill=\"black\" stroke=\"black\" points=\"276.5,-167.3 273,-157.3 269.5,-167.3 276.5,-167.3\"/>\n</g>\n<!-- 8 -->\n<g id=\"node9\" class=\"node\">\n<title>8</title>\n<path fill=\"#e53986\" stroke=\"black\" d=\"M252,-53C252,-53 106,-53 106,-53 100,-53 94,-47 94,-41 94,-41 94,-12 94,-12 94,-6 100,0 106,0 106,0 252,0 252,0 258,0 264,-6 264,-12 264,-12 264,-41 264,-41 264,-47 258,-53 252,-53\"/>\n<text text-anchor=\"start\" x=\"141.5\" y=\"-37.8\" font-family=\"Helvetica,sans-Serif\" font-size=\"14.00\">samples = 2</text>\n<text text-anchor=\"start\" x=\"102\" y=\"-22.8\" font-family=\"Helvetica,sans-Serif\" font-size=\"14.00\">value = [0, 0, 0, 0, 0, 0, 2]</text>\n<text text-anchor=\"start\" x=\"151.5\" y=\"-7.8\" font-family=\"Helvetica,sans-Serif\" font-size=\"14.00\">class = 7</text>\n</g>\n<!-- 7&#45;&gt;8 -->\n<g id=\"edge8\" class=\"edge\">\n<title>7&#45;&gt;8</title>\n<path fill=\"none\" stroke=\"black\" d=\"M240.12,-88.95C230.93,-79.71 220.95,-69.67 211.76,-60.44\"/>\n<polygon fill=\"black\" stroke=\"black\" points=\"214.13,-57.86 204.6,-53.24 209.17,-62.79 214.13,-57.86\"/>\n</g>\n<!-- 9 -->\n<g id=\"node10\" class=\"node\">\n<title>9</title>\n<path fill=\"#b139e5\" stroke=\"black\" d=\"M440,-53C440,-53 294,-53 294,-53 288,-53 282,-47 282,-41 282,-41 282,-12 282,-12 282,-6 288,0 294,0 294,0 440,0 440,0 446,0 452,-6 452,-12 452,-12 452,-41 452,-41 452,-47 446,-53 440,-53\"/>\n<text text-anchor=\"start\" x=\"329.5\" y=\"-37.8\" font-family=\"Helvetica,sans-Serif\" font-size=\"14.00\">samples = 6</text>\n<text text-anchor=\"start\" x=\"290\" y=\"-22.8\" font-family=\"Helvetica,sans-Serif\" font-size=\"14.00\">value = [0, 0, 0, 0, 0, 6, 0]</text>\n<text text-anchor=\"start\" x=\"339.5\" y=\"-7.8\" font-family=\"Helvetica,sans-Serif\" font-size=\"14.00\">class = 6</text>\n</g>\n<!-- 7&#45;&gt;9 -->\n<g id=\"edge9\" class=\"edge\">\n<title>7&#45;&gt;9</title>\n<path fill=\"none\" stroke=\"black\" d=\"M305.88,-88.95C315.07,-79.71 325.05,-69.67 334.24,-60.44\"/>\n<polygon fill=\"black\" stroke=\"black\" points=\"336.83,-62.79 341.4,-53.24 331.87,-57.86 336.83,-62.79\"/>\n</g>\n<!-- 11 -->\n<g id=\"node12\" class=\"node\">\n<title>11</title>\n<path fill=\"#39e54d\" stroke=\"black\" d=\"M534,-149.5C534,-149.5 388,-149.5 388,-149.5 382,-149.5 376,-143.5 376,-137.5 376,-137.5 376,-108.5 376,-108.5 376,-102.5 382,-96.5 388,-96.5 388,-96.5 534,-96.5 534,-96.5 540,-96.5 546,-102.5 546,-108.5 546,-108.5 546,-137.5 546,-137.5 546,-143.5 540,-149.5 534,-149.5\"/>\n<text text-anchor=\"start\" x=\"423.5\" y=\"-134.3\" font-family=\"Helvetica,sans-Serif\" font-size=\"14.00\">samples = 4</text>\n<text text-anchor=\"start\" x=\"384\" y=\"-119.3\" font-family=\"Helvetica,sans-Serif\" font-size=\"14.00\">value = [0, 0, 4, 0, 0, 0, 0]</text>\n<text text-anchor=\"start\" x=\"433.5\" y=\"-104.3\" font-family=\"Helvetica,sans-Serif\" font-size=\"14.00\">class = 3</text>\n</g>\n<!-- 10&#45;&gt;11 -->\n<g id=\"edge11\" class=\"edge\">\n<title>10&#45;&gt;11</title>\n<path fill=\"none\" stroke=\"black\" d=\"M461,-192.88C461,-182.33 461,-170.6 461,-159.85\"/>\n<polygon fill=\"black\" stroke=\"black\" points=\"464.5,-159.52 461,-149.52 457.5,-159.52 464.5,-159.52\"/>\n</g>\n<!-- 12 -->\n<g id=\"node13\" class=\"node\">\n<title>12</title>\n<path fill=\"#3956e5\" stroke=\"black\" d=\"M722,-149.5C722,-149.5 576,-149.5 576,-149.5 570,-149.5 564,-143.5 564,-137.5 564,-137.5 564,-108.5 564,-108.5 564,-102.5 570,-96.5 576,-96.5 576,-96.5 722,-96.5 722,-96.5 728,-96.5 734,-102.5 734,-108.5 734,-108.5 734,-137.5 734,-137.5 734,-143.5 728,-149.5 722,-149.5\"/>\n<text text-anchor=\"start\" x=\"611.5\" y=\"-134.3\" font-family=\"Helvetica,sans-Serif\" font-size=\"14.00\">samples = 4</text>\n<text text-anchor=\"start\" x=\"572\" y=\"-119.3\" font-family=\"Helvetica,sans-Serif\" font-size=\"14.00\">value = [0, 0, 0, 0, 4, 0, 0]</text>\n<text text-anchor=\"start\" x=\"621.5\" y=\"-104.3\" font-family=\"Helvetica,sans-Serif\" font-size=\"14.00\">class = 5</text>\n</g>\n<!-- 10&#45;&gt;12 -->\n<g id=\"edge12\" class=\"edge\">\n<title>10&#45;&gt;12</title>\n<path fill=\"none\" stroke=\"black\" d=\"M522.04,-192.88C544.84,-180.51 570.61,-166.53 592.94,-154.41\"/>\n<polygon fill=\"black\" stroke=\"black\" points=\"594.84,-157.37 601.96,-149.52 591.5,-151.21 594.84,-157.37\"/>\n</g>\n</g>\n</svg>\n",
            "text/plain": [
              "<graphviz.sources.Source at 0x7aa0eb550d90>"
            ]
          },
          "metadata": {},
          "execution_count": 14
        }
      ]
    },
    {
      "cell_type": "markdown",
      "metadata": {
        "id": "b4reWBQAeXlV"
      },
      "source": [
        "## Tuning\n",
        "I performed k-fold cross-validation to evaluate the model’s performance across different max_depth values. I drew on [this explanation](https://scikit-learn.org/stable/modules/cross_validation.html) of cross-fold validation from the documentation.\n",
        "\n",
        "![Cross-fold visualisation](https://scikit-learn.org/stable/_images/grid_search_cross_validation.png)\n",
        "\n",
        "\n",
        "I won't keep testing data aside for post training evaluation. I want to see if the model can learn to have 100% accuracy for the zoo dataset. I plotted the mean accuracy for each max_depth value to analyze how the depth of the tree affects model performance.\n",
        "\n",
        "I used ChatGPT wrote the bulk of the following code. I broke it and then Gemini helped me fix it."
      ]
    },
    {
      "cell_type": "code",
      "metadata": {
        "id": "htr7ZDEkfBkA",
        "colab": {
          "base_uri": "https://localhost:8080/",
          "height": 573
        },
        "outputId": "86b02a86-d046-4f00-8ec8-264a3cab51b3"
      },
      "source": [
        "from sklearn.model_selection import cross_val_score, KFold\n",
        "\n",
        "max_depth_values = np.arange(1, 11)  # Testing max_depth from 1 to 10\n",
        "\n",
        "mean_scores = []\n",
        "\n",
        "X_train, X_test, y_train, y_test = train_test_split(X, y, test_size=0.33)\n",
        "\n",
        "# Initialize K-Fold Cross-Validation\n",
        "kf = KFold(n_splits=5, shuffle=True)\n",
        "\n",
        "for max_depth in max_depth_values:\n",
        "    # Initialize the Decision Tree Classifier with the current max_depth\n",
        "    clf = DecisionTreeClassifier(max_depth=max_depth, random_state=0)\n",
        "\n",
        "    # Perform cross-validation and compute the mean score\n",
        "    results = cross_val_score(clf, X_train, y_train, cv=kf, scoring='accuracy')\n",
        "    #scores = cross_val_score(clf, X_train, y_train, cv=kf, scoring='accuracy')\n",
        "\n",
        "    mean_scores.append(results.mean())\n",
        "\n",
        "# Plot the performance\n",
        "plt.figure(figsize=(10, 6))\n",
        "plt.plot(max_depth_values, mean_scores, marker='o')\n",
        "plt.title('Model Performance vs. max_depth')\n",
        "plt.xlabel('Max Depth')\n",
        "plt.ylabel('Mean Accuracy')\n",
        "plt.xticks(max_depth_values)\n",
        "plt.grid(True)\n",
        "plt.show()"
      ],
      "execution_count": 21,
      "outputs": [
        {
          "output_type": "display_data",
          "data": {
            "text/plain": [
              "<Figure size 1000x600 with 1 Axes>"
            ],
            "image/png": "[encoded data removed]"
          },
          "metadata": {}
        }
      ]
    },
    {
      "cell_type": "markdown",
      "source": [
        "# Final Comments\n",
        "\n",
        "I couldn't figure out a way to use K-fold cross validation to build a stronger decision tree. This surprised me as I expected that using more of the data to train the model would make it perform better. The models that I got from the CV process were only about as strong as the models where I set 30% of the data aside for testing.\n",
        "\n",
        "The zoo dataset only contains 101 records, and all the records are unique. It seems like an excellent application for cross validation. Typically cross validation techniques are used in cases where data availability is marginal so that you don't have to sacrifice valuable data. This exercise is surely such a case as some of our target classes are represented by just 3 records. an unlucky 70/30 split would see all or most of the records of some target classes end up in the training data which would dramatically reduce the performance of the resulting model. I believe that is what drives the significant variance in performance that I have witnessed when re-running the final code block of this notebook."
      ],
      "metadata": {
        "id": "Uu6UsL74O03n"
      }
    },
    {
      "cell_type": "markdown",
      "source": [
        "# Acknowledgments\n",
        "Thanks to the volunteers who do the thankless work of documenting open source projects. Thanks to Chat GPT and Gemini some help with the code in this notebook. Conversing with ChatGPT helped me to think this exercise through."
      ],
      "metadata": {
        "id": "e-TMCk2nO3dg"
      }
    }
  ]
}